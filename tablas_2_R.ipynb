{
  "nbformat": 4,
  "nbformat_minor": 0,
  "metadata": {
    "colab": {
      "provenance": [],
      "authorship_tag": "ABX9TyNLSAtSiu1GS89A959j06si",
      "include_colab_link": true
    },
    "kernelspec": {
      "name": "ir",
      "display_name": "R"
    },
    "language_info": {
      "name": "R"
    }
  },
  "cells": [
    {
      "cell_type": "markdown",
      "metadata": {
        "id": "view-in-github",
        "colab_type": "text"
      },
      "source": [
        "<a href=\"https://colab.research.google.com/github/leoberDr/taller3_PLE/blob/main/tablas_2_R.ipynb\" target=\"_parent\"><img src=\"https://colab.research.google.com/assets/colab-badge.svg\" alt=\"Open In Colab\"/></a>"
      ]
    },
    {
      "cell_type": "code",
      "execution_count": 1,
      "metadata": {
        "colab": {
          "base_uri": "https://localhost:8080/"
        },
        "id": "_Jsi9WkQwj91",
        "outputId": "2c0d3ae2-5cff-4634-944b-f1edb839166d"
      },
      "outputs": [
        {
          "output_type": "stream",
          "name": "stdout",
          "text": [
            "      Sabor precio\n",
            "1      mora   3500\n",
            "2  vainilla   4700\n",
            "3 chocolate   6500\n",
            "4      mora   5200\n",
            "5 chocolate   5700\n"
          ]
        }
      ],
      "source": [
        "conos <- data.frame(\n",
        "  Sabor = c(\"mora\", \"vainilla\", \"chocolate\", \"mora\", \"chocolate\"),\n",
        "  precio = c(3500, 4700, 6500, 5200, 5700)\n",
        ")\n",
        "\n",
        "print(conos)"
      ]
    },
    {
      "cell_type": "code",
      "source": [
        "conos$Sabor"
      ],
      "metadata": {
        "colab": {
          "base_uri": "https://localhost:8080/",
          "height": 34
        },
        "id": "ChgfRgVfxIEd",
        "outputId": "c7b14027-2221-454a-8b04-e7e8a0fd28f6"
      },
      "execution_count": null,
      "outputs": [
        {
          "output_type": "display_data",
          "data": {
            "text/html": [
              "<style>\n",
              ".list-inline {list-style: none; margin:0; padding: 0}\n",
              ".list-inline>li {display: inline-block}\n",
              ".list-inline>li:not(:last-child)::after {content: \"\\00b7\"; padding: 0 .5ex}\n",
              "</style>\n",
              "<ol class=list-inline><li>'mora'</li><li>'vainilla'</li><li>'chocolate'</li><li>'mora'</li><li>'chocolate'</li></ol>\n"
            ],
            "text/markdown": "1. 'mora'\n2. 'vainilla'\n3. 'chocolate'\n4. 'mora'\n5. 'chocolate'\n\n\n",
            "text/latex": "\\begin{enumerate*}\n\\item 'mora'\n\\item 'vainilla'\n\\item 'chocolate'\n\\item 'mora'\n\\item 'chocolate'\n\\end{enumerate*}\n",
            "text/plain": [
              "[1] \"mora\"      \"vainilla\"  \"chocolate\" \"mora\"      \"chocolate\""
            ]
          },
          "metadata": {}
        }
      ]
    },
    {
      "cell_type": "code",
      "source": [
        "conos$precio"
      ],
      "metadata": {
        "colab": {
          "base_uri": "https://localhost:8080/",
          "height": 34
        },
        "id": "ozG9ljn9xdKj",
        "outputId": "e0da0e40-c1ed-40bb-9939-0ac4140d532e"
      },
      "execution_count": null,
      "outputs": [
        {
          "output_type": "display_data",
          "data": {
            "text/html": [
              "<style>\n",
              ".list-inline {list-style: none; margin:0; padding: 0}\n",
              ".list-inline>li {display: inline-block}\n",
              ".list-inline>li:not(:last-child)::after {content: \"\\00b7\"; padding: 0 .5ex}\n",
              "</style>\n",
              "<ol class=list-inline><li>3500</li><li>4700</li><li>6500</li><li>5200</li><li>5700</li></ol>\n"
            ],
            "text/markdown": "1. 3500\n2. 4700\n3. 6500\n4. 5200\n5. 5700\n\n\n",
            "text/latex": "\\begin{enumerate*}\n\\item 3500\n\\item 4700\n\\item 6500\n\\item 5200\n\\item 5700\n\\end{enumerate*}\n",
            "text/plain": [
              "[1] 3500 4700 6500 5200 5700"
            ]
          },
          "metadata": {}
        }
      ]
    },
    {
      "cell_type": "code",
      "source": [
        "conos [ c(\"Sabor\", \"precio\")]"
      ],
      "metadata": {
        "colab": {
          "base_uri": "https://localhost:8080/",
          "height": 255
        },
        "id": "-PJnd2HixfR3",
        "outputId": "4c974b77-82d5-4627-ff34-f6af9b18a856"
      },
      "execution_count": null,
      "outputs": [
        {
          "output_type": "display_data",
          "data": {
            "text/html": [
              "<table class=\"dataframe\">\n",
              "<caption>A data.frame: 5 × 2</caption>\n",
              "<thead>\n",
              "\t<tr><th scope=col>Sabor</th><th scope=col>precio</th></tr>\n",
              "\t<tr><th scope=col>&lt;chr&gt;</th><th scope=col>&lt;dbl&gt;</th></tr>\n",
              "</thead>\n",
              "<tbody>\n",
              "\t<tr><td>mora     </td><td>3500</td></tr>\n",
              "\t<tr><td>vainilla </td><td>4700</td></tr>\n",
              "\t<tr><td>chocolate</td><td>6500</td></tr>\n",
              "\t<tr><td>mora     </td><td>5200</td></tr>\n",
              "\t<tr><td>chocolate</td><td>5700</td></tr>\n",
              "</tbody>\n",
              "</table>\n"
            ],
            "text/markdown": "\nA data.frame: 5 × 2\n\n| Sabor &lt;chr&gt; | precio &lt;dbl&gt; |\n|---|---|\n| mora      | 3500 |\n| vainilla  | 4700 |\n| chocolate | 6500 |\n| mora      | 5200 |\n| chocolate | 5700 |\n\n",
            "text/latex": "A data.frame: 5 × 2\n\\begin{tabular}{ll}\n Sabor & precio\\\\\n <chr> & <dbl>\\\\\n\\hline\n\t mora      & 3500\\\\\n\t vainilla  & 4700\\\\\n\t chocolate & 6500\\\\\n\t mora      & 5200\\\\\n\t chocolate & 5700\\\\\n\\end{tabular}\n",
            "text/plain": [
              "  Sabor     precio\n",
              "1 mora      3500  \n",
              "2 vainilla  4700  \n",
              "3 chocolate 6500  \n",
              "4 mora      5200  \n",
              "5 chocolate 5700  "
            ]
          },
          "metadata": {}
        }
      ]
    },
    {
      "cell_type": "code",
      "source": [
        "conos[order(conos$Sabor, decreasing = TRUE), ]"
      ],
      "metadata": {
        "colab": {
          "base_uri": "https://localhost:8080/",
          "height": 255
        },
        "id": "kFbFwncxyEft",
        "outputId": "5f090d13-aabe-4956-93b2-5385b77e6550"
      },
      "execution_count": null,
      "outputs": [
        {
          "output_type": "display_data",
          "data": {
            "text/html": [
              "<table class=\"dataframe\">\n",
              "<caption>A data.frame: 5 × 2</caption>\n",
              "<thead>\n",
              "\t<tr><th></th><th scope=col>Sabor</th><th scope=col>precio</th></tr>\n",
              "\t<tr><th></th><th scope=col>&lt;chr&gt;</th><th scope=col>&lt;dbl&gt;</th></tr>\n",
              "</thead>\n",
              "<tbody>\n",
              "\t<tr><th scope=row>2</th><td>vainilla </td><td>4700</td></tr>\n",
              "\t<tr><th scope=row>1</th><td>mora     </td><td>3500</td></tr>\n",
              "\t<tr><th scope=row>4</th><td>mora     </td><td>5200</td></tr>\n",
              "\t<tr><th scope=row>3</th><td>chocolate</td><td>6500</td></tr>\n",
              "\t<tr><th scope=row>5</th><td>chocolate</td><td>5700</td></tr>\n",
              "</tbody>\n",
              "</table>\n"
            ],
            "text/markdown": "\nA data.frame: 5 × 2\n\n| <!--/--> | Sabor &lt;chr&gt; | precio &lt;dbl&gt; |\n|---|---|---|\n| 2 | vainilla  | 4700 |\n| 1 | mora      | 3500 |\n| 4 | mora      | 5200 |\n| 3 | chocolate | 6500 |\n| 5 | chocolate | 5700 |\n\n",
            "text/latex": "A data.frame: 5 × 2\n\\begin{tabular}{r|ll}\n  & Sabor & precio\\\\\n  & <chr> & <dbl>\\\\\n\\hline\n\t2 & vainilla  & 4700\\\\\n\t1 & mora      & 3500\\\\\n\t4 & mora      & 5200\\\\\n\t3 & chocolate & 6500\\\\\n\t5 & chocolate & 5700\\\\\n\\end{tabular}\n",
            "text/plain": [
              "  Sabor     precio\n",
              "2 vainilla  4700  \n",
              "1 mora      3500  \n",
              "4 mora      5200  \n",
              "3 chocolate 6500  \n",
              "5 chocolate 5700  "
            ]
          },
          "metadata": {}
        }
      ]
    },
    {
      "cell_type": "code",
      "source": [
        "head(conos, 2)"
      ],
      "metadata": {
        "colab": {
          "base_uri": "https://localhost:8080/",
          "height": 161
        },
        "id": "XfiqKm58yn8Z",
        "outputId": "3b5714b4-76ed-46b1-aa98-ab30e88d07c1"
      },
      "execution_count": null,
      "outputs": [
        {
          "output_type": "display_data",
          "data": {
            "text/html": [
              "<table class=\"dataframe\">\n",
              "<caption>A data.frame: 2 × 2</caption>\n",
              "<thead>\n",
              "\t<tr><th></th><th scope=col>Sabor</th><th scope=col>precio</th></tr>\n",
              "\t<tr><th></th><th scope=col>&lt;chr&gt;</th><th scope=col>&lt;dbl&gt;</th></tr>\n",
              "</thead>\n",
              "<tbody>\n",
              "\t<tr><th scope=row>1</th><td>mora    </td><td>3500</td></tr>\n",
              "\t<tr><th scope=row>2</th><td>vainilla</td><td>4700</td></tr>\n",
              "</tbody>\n",
              "</table>\n"
            ],
            "text/markdown": "\nA data.frame: 2 × 2\n\n| <!--/--> | Sabor &lt;chr&gt; | precio &lt;dbl&gt; |\n|---|---|---|\n| 1 | mora     | 3500 |\n| 2 | vainilla | 4700 |\n\n",
            "text/latex": "A data.frame: 2 × 2\n\\begin{tabular}{r|ll}\n  & Sabor & precio\\\\\n  & <chr> & <dbl>\\\\\n\\hline\n\t1 & mora     & 3500\\\\\n\t2 & vainilla & 4700\\\\\n\\end{tabular}\n",
            "text/plain": [
              "  Sabor    precio\n",
              "1 mora     3500  \n",
              "2 vainilla 4700  "
            ]
          },
          "metadata": {}
        }
      ]
    },
    {
      "cell_type": "code",
      "source": [
        "tail(conos, 1)"
      ],
      "metadata": {
        "colab": {
          "base_uri": "https://localhost:8080/",
          "height": 129
        },
        "id": "5CDgTrTvzR_S",
        "outputId": "6ac672c4-fad8-445f-f846-ab24dfe2d5cb"
      },
      "execution_count": null,
      "outputs": [
        {
          "output_type": "display_data",
          "data": {
            "text/html": [
              "<table class=\"dataframe\">\n",
              "<caption>A data.frame: 1 × 2</caption>\n",
              "<thead>\n",
              "\t<tr><th></th><th scope=col>Sabor</th><th scope=col>precio</th></tr>\n",
              "\t<tr><th></th><th scope=col>&lt;chr&gt;</th><th scope=col>&lt;dbl&gt;</th></tr>\n",
              "</thead>\n",
              "<tbody>\n",
              "\t<tr><th scope=row>5</th><td>chocolate</td><td>5700</td></tr>\n",
              "</tbody>\n",
              "</table>\n"
            ],
            "text/markdown": "\nA data.frame: 1 × 2\n\n| <!--/--> | Sabor &lt;chr&gt; | precio &lt;dbl&gt; |\n|---|---|---|\n| 5 | chocolate | 5700 |\n\n",
            "text/latex": "A data.frame: 1 × 2\n\\begin{tabular}{r|ll}\n  & Sabor & precio\\\\\n  & <chr> & <dbl>\\\\\n\\hline\n\t5 & chocolate & 5700\\\\\n\\end{tabular}\n",
            "text/plain": [
              "  Sabor     precio\n",
              "5 chocolate 5700  "
            ]
          },
          "metadata": {}
        }
      ]
    },
    {
      "cell_type": "code",
      "source": [
        "sample(conos)"
      ],
      "metadata": {
        "colab": {
          "base_uri": "https://localhost:8080/",
          "height": 255
        },
        "id": "lVqacnzWzaXA",
        "outputId": "c03f70b0-1212-4406-ff8e-10bcc25f2940"
      },
      "execution_count": null,
      "outputs": [
        {
          "output_type": "display_data",
          "data": {
            "text/html": [
              "<table class=\"dataframe\">\n",
              "<caption>A data.frame: 5 × 2</caption>\n",
              "<thead>\n",
              "\t<tr><th scope=col>Sabor</th><th scope=col>precio</th></tr>\n",
              "\t<tr><th scope=col>&lt;chr&gt;</th><th scope=col>&lt;dbl&gt;</th></tr>\n",
              "</thead>\n",
              "<tbody>\n",
              "\t<tr><td>mora     </td><td>3500</td></tr>\n",
              "\t<tr><td>vainilla </td><td>4700</td></tr>\n",
              "\t<tr><td>chocolate</td><td>6500</td></tr>\n",
              "\t<tr><td>mora     </td><td>5200</td></tr>\n",
              "\t<tr><td>chocolate</td><td>5700</td></tr>\n",
              "</tbody>\n",
              "</table>\n"
            ],
            "text/markdown": "\nA data.frame: 5 × 2\n\n| Sabor &lt;chr&gt; | precio &lt;dbl&gt; |\n|---|---|\n| mora      | 3500 |\n| vainilla  | 4700 |\n| chocolate | 6500 |\n| mora      | 5200 |\n| chocolate | 5700 |\n\n",
            "text/latex": "A data.frame: 5 × 2\n\\begin{tabular}{ll}\n Sabor & precio\\\\\n <chr> & <dbl>\\\\\n\\hline\n\t mora      & 3500\\\\\n\t vainilla  & 4700\\\\\n\t chocolate & 6500\\\\\n\t mora      & 5200\\\\\n\t chocolate & 5700\\\\\n\\end{tabular}\n",
            "text/plain": [
              "  Sabor     precio\n",
              "1 mora      3500  \n",
              "2 vainilla  4700  \n",
              "3 chocolate 6500  \n",
              "4 mora      5200  \n",
              "5 chocolate 5700  "
            ]
          },
          "metadata": {}
        }
      ]
    },
    {
      "cell_type": "code",
      "source": [
        "conos[sample(nrow(conos), 1), ]"
      ],
      "metadata": {
        "colab": {
          "base_uri": "https://localhost:8080/",
          "height": 129
        },
        "id": "Y9KLcXjBznVy",
        "outputId": "4ba5aa2a-2472-4f76-a023-714df142f8df"
      },
      "execution_count": null,
      "outputs": [
        {
          "output_type": "display_data",
          "data": {
            "text/html": [
              "<table class=\"dataframe\">\n",
              "<caption>A data.frame: 1 × 2</caption>\n",
              "<thead>\n",
              "\t<tr><th></th><th scope=col>Sabor</th><th scope=col>precio</th></tr>\n",
              "\t<tr><th></th><th scope=col>&lt;chr&gt;</th><th scope=col>&lt;dbl&gt;</th></tr>\n",
              "</thead>\n",
              "<tbody>\n",
              "\t<tr><th scope=row>3</th><td>chocolate</td><td>6500</td></tr>\n",
              "</tbody>\n",
              "</table>\n"
            ],
            "text/markdown": "\nA data.frame: 1 × 2\n\n| <!--/--> | Sabor &lt;chr&gt; | precio &lt;dbl&gt; |\n|---|---|---|\n| 3 | chocolate | 6500 |\n\n",
            "text/latex": "A data.frame: 1 × 2\n\\begin{tabular}{r|ll}\n  & Sabor & precio\\\\\n  & <chr> & <dbl>\\\\\n\\hline\n\t3 & chocolate & 6500\\\\\n\\end{tabular}\n",
            "text/plain": [
              "  Sabor     precio\n",
              "3 chocolate 6500  "
            ]
          },
          "metadata": {}
        }
      ]
    },
    {
      "cell_type": "code",
      "source": [
        "summary(conos)"
      ],
      "metadata": {
        "colab": {
          "base_uri": "https://localhost:8080/",
          "height": 139
        },
        "id": "b81bV3uU0AiE",
        "outputId": "dfdfe1d3-6fc8-414b-8fda-2570069c0017"
      },
      "execution_count": null,
      "outputs": [
        {
          "output_type": "display_data",
          "data": {
            "text/plain": [
              "    Sabor               precio    \n",
              " Length:5           Min.   :3500  \n",
              " Class :character   1st Qu.:4700  \n",
              " Mode  :character   Median :5200  \n",
              "                    Mean   :5120  \n",
              "                    3rd Qu.:5700  \n",
              "                    Max.   :6500  "
            ]
          },
          "metadata": {}
        }
      ]
    },
    {
      "cell_type": "code",
      "source": [
        "str(conos)"
      ],
      "metadata": {
        "colab": {
          "base_uri": "https://localhost:8080/"
        },
        "id": "8pxBXzi20Lk9",
        "outputId": "8a0d1ff9-fe3c-4188-82f9-89ff0d2ee08e"
      },
      "execution_count": null,
      "outputs": [
        {
          "output_type": "stream",
          "name": "stdout",
          "text": [
            "'data.frame':\t5 obs. of  2 variables:\n",
            " $ Sabor : chr  \"mora\" \"vainilla\" \"chocolate\" \"mora\" ...\n",
            " $ precio: num  3500 4700 6500 5200 5700\n"
          ]
        }
      ]
    },
    {
      "cell_type": "code",
      "source": [
        "row.names(conos)"
      ],
      "metadata": {
        "colab": {
          "base_uri": "https://localhost:8080/",
          "height": 34
        },
        "id": "G14lUT8c0cQU",
        "outputId": "9f3b9978-3458-4885-fd84-7e2f49abd2ce"
      },
      "execution_count": null,
      "outputs": [
        {
          "output_type": "display_data",
          "data": {
            "text/html": [
              "<style>\n",
              ".list-inline {list-style: none; margin:0; padding: 0}\n",
              ".list-inline>li {display: inline-block}\n",
              ".list-inline>li:not(:last-child)::after {content: \"\\00b7\"; padding: 0 .5ex}\n",
              "</style>\n",
              "<ol class=list-inline><li>'1'</li><li>'2'</li><li>'3'</li><li>'4'</li><li>'5'</li></ol>\n"
            ],
            "text/markdown": "1. '1'\n2. '2'\n3. '3'\n4. '4'\n5. '5'\n\n\n",
            "text/latex": "\\begin{enumerate*}\n\\item '1'\n\\item '2'\n\\item '3'\n\\item '4'\n\\item '5'\n\\end{enumerate*}\n",
            "text/plain": [
              "[1] \"1\" \"2\" \"3\" \"4\" \"5\""
            ]
          },
          "metadata": {}
        }
      ]
    },
    {
      "cell_type": "code",
      "source": [
        "conos[4,]"
      ],
      "metadata": {
        "colab": {
          "base_uri": "https://localhost:8080/",
          "height": 129
        },
        "id": "piLUWrft0xRt",
        "outputId": "5694b144-433d-4d54-d23d-a4af8616a296"
      },
      "execution_count": null,
      "outputs": [
        {
          "output_type": "display_data",
          "data": {
            "text/html": [
              "<table class=\"dataframe\">\n",
              "<caption>A data.frame: 1 × 2</caption>\n",
              "<thead>\n",
              "\t<tr><th></th><th scope=col>Sabor</th><th scope=col>precio</th></tr>\n",
              "\t<tr><th></th><th scope=col>&lt;chr&gt;</th><th scope=col>&lt;dbl&gt;</th></tr>\n",
              "</thead>\n",
              "<tbody>\n",
              "\t<tr><th scope=row>4</th><td>mora</td><td>5200</td></tr>\n",
              "</tbody>\n",
              "</table>\n"
            ],
            "text/markdown": "\nA data.frame: 1 × 2\n\n| <!--/--> | Sabor &lt;chr&gt; | precio &lt;dbl&gt; |\n|---|---|---|\n| 4 | mora | 5200 |\n\n",
            "text/latex": "A data.frame: 1 × 2\n\\begin{tabular}{r|ll}\n  & Sabor & precio\\\\\n  & <chr> & <dbl>\\\\\n\\hline\n\t4 & mora & 5200\\\\\n\\end{tabular}\n",
            "text/plain": [
              "  Sabor precio\n",
              "4 mora  5200  "
            ]
          },
          "metadata": {}
        }
      ]
    },
    {
      "cell_type": "code",
      "source": [
        "conos$precio[3]"
      ],
      "metadata": {
        "colab": {
          "base_uri": "https://localhost:8080/",
          "height": 34
        },
        "id": "hCvquJzp1ZRJ",
        "outputId": "eb44f76f-2052-4a40-a874-8ab3049a1099"
      },
      "execution_count": null,
      "outputs": [
        {
          "output_type": "display_data",
          "data": {
            "text/html": [
              "6500"
            ],
            "text/markdown": "6500",
            "text/latex": "6500",
            "text/plain": [
              "[1] 6500"
            ]
          },
          "metadata": {}
        }
      ]
    },
    {
      "cell_type": "code",
      "source": [
        "rownames(conos) <- make.unique(as.character(conos$Sabor))\n",
        "conos"
      ],
      "metadata": {
        "colab": {
          "base_uri": "https://localhost:8080/",
          "height": 255
        },
        "id": "3nMWkYdZkd19",
        "outputId": "11198764-98b0-43ee-92df-badd8bb7bc1a"
      },
      "execution_count": 2,
      "outputs": [
        {
          "output_type": "display_data",
          "data": {
            "text/html": [
              "<table class=\"dataframe\">\n",
              "<caption>A data.frame: 5 × 2</caption>\n",
              "<thead>\n",
              "\t<tr><th></th><th scope=col>Sabor</th><th scope=col>precio</th></tr>\n",
              "\t<tr><th></th><th scope=col>&lt;chr&gt;</th><th scope=col>&lt;dbl&gt;</th></tr>\n",
              "</thead>\n",
              "<tbody>\n",
              "\t<tr><th scope=row>mora</th><td>mora     </td><td>3500</td></tr>\n",
              "\t<tr><th scope=row>vainilla</th><td>vainilla </td><td>4700</td></tr>\n",
              "\t<tr><th scope=row>chocolate</th><td>chocolate</td><td>6500</td></tr>\n",
              "\t<tr><th scope=row>mora.1</th><td>mora     </td><td>5200</td></tr>\n",
              "\t<tr><th scope=row>chocolate.1</th><td>chocolate</td><td>5700</td></tr>\n",
              "</tbody>\n",
              "</table>\n"
            ],
            "text/markdown": "\nA data.frame: 5 × 2\n\n| <!--/--> | Sabor &lt;chr&gt; | precio &lt;dbl&gt; |\n|---|---|---|\n| mora | mora      | 3500 |\n| vainilla | vainilla  | 4700 |\n| chocolate | chocolate | 6500 |\n| mora.1 | mora      | 5200 |\n| chocolate.1 | chocolate | 5700 |\n\n",
            "text/latex": "A data.frame: 5 × 2\n\\begin{tabular}{r|ll}\n  & Sabor & precio\\\\\n  & <chr> & <dbl>\\\\\n\\hline\n\tmora & mora      & 3500\\\\\n\tvainilla & vainilla  & 4700\\\\\n\tchocolate & chocolate & 6500\\\\\n\tmora.1 & mora      & 5200\\\\\n\tchocolate.1 & chocolate & 5700\\\\\n\\end{tabular}\n",
            "text/plain": [
              "            Sabor     precio\n",
              "mora        mora      3500  \n",
              "vainilla    vainilla  4700  \n",
              "chocolate   chocolate 6500  \n",
              "mora.1      mora      5200  \n",
              "chocolate.1 chocolate 5700  "
            ]
          },
          "metadata": {}
        }
      ]
    },
    {
      "cell_type": "code",
      "source": [
        "resultado <- conos[conos$precio > 5000, ]\n",
        "\n",
        "\n",
        "resultado"
      ],
      "metadata": {
        "colab": {
          "base_uri": "https://localhost:8080/",
          "height": 192
        },
        "id": "KYm8s0611fSO",
        "outputId": "30003973-9073-4a06-a1e5-2a12ef25e5a3"
      },
      "execution_count": null,
      "outputs": [
        {
          "output_type": "display_data",
          "data": {
            "text/html": [
              "<table class=\"dataframe\">\n",
              "<caption>A data.frame: 3 × 2</caption>\n",
              "<thead>\n",
              "\t<tr><th></th><th scope=col>Sabor</th><th scope=col>precio</th></tr>\n",
              "\t<tr><th></th><th scope=col>&lt;chr&gt;</th><th scope=col>&lt;dbl&gt;</th></tr>\n",
              "</thead>\n",
              "<tbody>\n",
              "\t<tr><th scope=row>3</th><td>chocolate</td><td>6500</td></tr>\n",
              "\t<tr><th scope=row>4</th><td>mora     </td><td>5200</td></tr>\n",
              "\t<tr><th scope=row>5</th><td>chocolate</td><td>5700</td></tr>\n",
              "</tbody>\n",
              "</table>\n"
            ],
            "text/markdown": "\nA data.frame: 3 × 2\n\n| <!--/--> | Sabor &lt;chr&gt; | precio &lt;dbl&gt; |\n|---|---|---|\n| 3 | chocolate | 6500 |\n| 4 | mora      | 5200 |\n| 5 | chocolate | 5700 |\n\n",
            "text/latex": "A data.frame: 3 × 2\n\\begin{tabular}{r|ll}\n  & Sabor & precio\\\\\n  & <chr> & <dbl>\\\\\n\\hline\n\t3 & chocolate & 6500\\\\\n\t4 & mora      & 5200\\\\\n\t5 & chocolate & 5700\\\\\n\\end{tabular}\n",
            "text/plain": [
              "  Sabor     precio\n",
              "3 chocolate 6500  \n",
              "4 mora      5200  \n",
              "5 chocolate 5700  "
            ]
          },
          "metadata": {}
        }
      ]
    },
    {
      "cell_type": "code",
      "source": [
        "resultado2 <- conos[conos$precio > 3000 & conos$precio < 5000, ]\n",
        "resultado2"
      ],
      "metadata": {
        "colab": {
          "base_uri": "https://localhost:8080/",
          "height": 161
        },
        "id": "Ctn2F2XI37SS",
        "outputId": "f84f49a3-c916-49c5-ee66-7d01c3f241b8"
      },
      "execution_count": null,
      "outputs": [
        {
          "output_type": "display_data",
          "data": {
            "text/html": [
              "<table class=\"dataframe\">\n",
              "<caption>A data.frame: 2 × 2</caption>\n",
              "<thead>\n",
              "\t<tr><th></th><th scope=col>Sabor</th><th scope=col>precio</th></tr>\n",
              "\t<tr><th></th><th scope=col>&lt;chr&gt;</th><th scope=col>&lt;dbl&gt;</th></tr>\n",
              "</thead>\n",
              "<tbody>\n",
              "\t<tr><th scope=row>1</th><td>mora    </td><td>3500</td></tr>\n",
              "\t<tr><th scope=row>2</th><td>vainilla</td><td>4700</td></tr>\n",
              "</tbody>\n",
              "</table>\n"
            ],
            "text/markdown": "\nA data.frame: 2 × 2\n\n| <!--/--> | Sabor &lt;chr&gt; | precio &lt;dbl&gt; |\n|---|---|---|\n| 1 | mora     | 3500 |\n| 2 | vainilla | 4700 |\n\n",
            "text/latex": "A data.frame: 2 × 2\n\\begin{tabular}{r|ll}\n  & Sabor & precio\\\\\n  & <chr> & <dbl>\\\\\n\\hline\n\t1 & mora     & 3500\\\\\n\t2 & vainilla & 4700\\\\\n\\end{tabular}\n",
            "text/plain": [
              "  Sabor    precio\n",
              "1 mora     3500  \n",
              "2 vainilla 4700  "
            ]
          },
          "metadata": {}
        }
      ]
    },
    {
      "cell_type": "code",
      "source": [
        "resultado_chocolate <- conos[conos$Sabor == \"chocolate\" & conos$precio < 6000, ]\n",
        "resultado_chocolate"
      ],
      "metadata": {
        "colab": {
          "base_uri": "https://localhost:8080/",
          "height": 129
        },
        "id": "ZlQkqHzQjvqf",
        "outputId": "46eab570-249b-46e8-f1b4-6a6f9507ba5d"
      },
      "execution_count": 3,
      "outputs": [
        {
          "output_type": "display_data",
          "data": {
            "text/html": [
              "<table class=\"dataframe\">\n",
              "<caption>A data.frame: 1 × 2</caption>\n",
              "<thead>\n",
              "\t<tr><th></th><th scope=col>Sabor</th><th scope=col>precio</th></tr>\n",
              "\t<tr><th></th><th scope=col>&lt;chr&gt;</th><th scope=col>&lt;dbl&gt;</th></tr>\n",
              "</thead>\n",
              "<tbody>\n",
              "\t<tr><th scope=row>chocolate.1</th><td>chocolate</td><td>5700</td></tr>\n",
              "</tbody>\n",
              "</table>\n"
            ],
            "text/markdown": "\nA data.frame: 1 × 2\n\n| <!--/--> | Sabor &lt;chr&gt; | precio &lt;dbl&gt; |\n|---|---|---|\n| chocolate.1 | chocolate | 5700 |\n\n",
            "text/latex": "A data.frame: 1 × 2\n\\begin{tabular}{r|ll}\n  & Sabor & precio\\\\\n  & <chr> & <dbl>\\\\\n\\hline\n\tchocolate.1 & chocolate & 5700\\\\\n\\end{tabular}\n",
            "text/plain": [
              "            Sabor     precio\n",
              "chocolate.1 chocolate 5700  "
            ]
          },
          "metadata": {}
        }
      ]
    },
    {
      "cell_type": "code",
      "source": [],
      "metadata": {
        "id": "ZMXxKhnllIEs"
      },
      "execution_count": null,
      "outputs": []
    }
  ]
}