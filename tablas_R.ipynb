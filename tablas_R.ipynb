{
  "nbformat": 4,
  "nbformat_minor": 0,
  "metadata": {
    "colab": {
      "provenance": [],
      "authorship_tag": "ABX9TyM9nOpgRWm78o+5fkIxS/EJ",
      "include_colab_link": true
    },
    "kernelspec": {
      "name": "ir",
      "display_name": "R"
    },
    "language_info": {
      "name": "R"
    }
  },
  "cells": [
    {
      "cell_type": "markdown",
      "metadata": {
        "id": "view-in-github",
        "colab_type": "text"
      },
      "source": [
        "<a href=\"https://colab.research.google.com/github/leoberDr/taller3_PLE/blob/main/tablas_R.ipynb\" target=\"_parent\"><img src=\"https://colab.research.google.com/assets/colab-badge.svg\" alt=\"Open In Colab\"/></a>"
      ]
    },
    {
      "cell_type": "code",
      "execution_count": null,
      "metadata": {
        "colab": {
          "base_uri": "https://localhost:8080/"
        },
        "id": "fyURiHjOMeV2",
        "outputId": "61eb9b88-19d6-4a34-d512-29c8fae5bd5c"
      },
      "outputs": [
        {
          "output_type": "stream",
          "name": "stderr",
          "text": [
            "Installing package into ‘/usr/local/lib/R/site-library’\n",
            "(as ‘lib’ is unspecified)\n",
            "\n",
            "Warning message:\n",
            "“package ‘numpy’ is not available for this version of R\n",
            "\n",
            "A version of this package for your version of R might be available elsewhere,\n",
            "see the ideas at\n",
            "https://cran.r-project.org/doc/manuals/r-patched/R-admin.html#Installing-packages”\n"
          ]
        }
      ],
      "source": [
        "install.packages(\"numpy\")"
      ]
    },
    {
      "cell_type": "code",
      "source": [
        "words <- c(\"nombre\", \"pronombre\", \"verbo\", \"adverbio\", \"adjetivo\", \"conjuncion\", \"preposicion\")\n",
        "\n",
        "words\n"
      ],
      "metadata": {
        "colab": {
          "base_uri": "https://localhost:8080/",
          "height": 34
        },
        "id": "ht5zdPBMOsox",
        "outputId": "f5be46aa-f145-415a-b051-220dd00e5ebf"
      },
      "execution_count": null,
      "outputs": [
        {
          "output_type": "display_data",
          "data": {
            "text/html": [
              "<style>\n",
              ".list-inline {list-style: none; margin:0; padding: 0}\n",
              ".list-inline>li {display: inline-block}\n",
              ".list-inline>li:not(:last-child)::after {content: \"\\00b7\"; padding: 0 .5ex}\n",
              "</style>\n",
              "<ol class=list-inline><li>'nombre'</li><li>'pronombre'</li><li>'verbo'</li><li>'adverbio'</li><li>'adjetivo'</li><li>'conjuncion'</li><li>'preposicion'</li></ol>\n"
            ],
            "text/markdown": "1. 'nombre'\n2. 'pronombre'\n3. 'verbo'\n4. 'adverbio'\n5. 'adjetivo'\n6. 'conjuncion'\n7. 'preposicion'\n\n\n",
            "text/latex": "\\begin{enumerate*}\n\\item 'nombre'\n\\item 'pronombre'\n\\item 'verbo'\n\\item 'adverbio'\n\\item 'adjetivo'\n\\item 'conjuncion'\n\\item 'preposicion'\n\\end{enumerate*}\n",
            "text/plain": [
              "[1] \"nombre\"      \"pronombre\"   \"verbo\"       \"adverbio\"    \"adjetivo\"   \n",
              "[6] \"conjuncion\"  \"preposicion\""
            ]
          },
          "metadata": {}
        }
      ]
    },
    {
      "cell_type": "code",
      "source": [
        "# Invertir con índices\n",
        "vector_invertido <- words[length(words):1]\n",
        "\n",
        "# Imprimir el vector invertido\n",
        "print(vector_invertido)"
      ],
      "metadata": {
        "colab": {
          "base_uri": "https://localhost:8080/"
        },
        "id": "fG5jjFWOOyVP",
        "outputId": "29a0e4d6-d618-472b-929c-46cc882c22a0"
      },
      "execution_count": null,
      "outputs": [
        {
          "output_type": "stream",
          "name": "stdout",
          "text": [
            "[1] \"preposicion\" \"conjuncion\"  \"adjetivo\"    \"adverbio\"    \"verbo\"      \n",
            "[6] \"pronombre\"   \"nombre\"     \n"
          ]
        }
      ]
    },
    {
      "cell_type": "code",
      "source": [
        "numbers <- c(1, 3, 5.7)\n",
        "\n",
        "print(numbers)\n"
      ],
      "metadata": {
        "colab": {
          "base_uri": "https://localhost:8080/"
        },
        "id": "F5jj7E-9P1tr",
        "outputId": "077adda5-73ad-40b2-d1d2-2a0ebc311989"
      },
      "execution_count": null,
      "outputs": [
        {
          "output_type": "stream",
          "name": "stdout",
          "text": [
            "[1] 1.0 3.0 5.7\n"
          ]
        }
      ]
    },
    {
      "cell_type": "code",
      "source": [
        "suma <- sum(numbers)\n",
        "suma"
      ],
      "metadata": {
        "colab": {
          "base_uri": "https://localhost:8080/",
          "height": 34
        },
        "id": "z-3tIQa3SBsG",
        "outputId": "c1bee7ab-c22c-4ed4-b9ba-d22cc9cc0e1b"
      },
      "execution_count": null,
      "outputs": [
        {
          "output_type": "display_data",
          "data": {
            "text/html": [
              "9.7"
            ],
            "text/markdown": "9.7",
            "text/latex": "9.7",
            "text/plain": [
              "[1] 9.7"
            ]
          },
          "metadata": {}
        }
      ]
    },
    {
      "cell_type": "code",
      "source": [
        "size <- length(numbers)\n",
        "\n",
        "size"
      ],
      "metadata": {
        "colab": {
          "base_uri": "https://localhost:8080/",
          "height": 34
        },
        "id": "Vm_cZlgFSbr3",
        "outputId": "6867f661-2936-4ef7-ff68-f8ec194f42c6"
      },
      "execution_count": null,
      "outputs": [
        {
          "output_type": "display_data",
          "data": {
            "text/html": [
              "3"
            ],
            "text/markdown": "3",
            "text/latex": "3",
            "text/plain": [
              "[1] 3"
            ]
          },
          "metadata": {}
        }
      ]
    },
    {
      "cell_type": "code",
      "source": [
        "promedio <- mean(numbers)\n",
        "promedio"
      ],
      "metadata": {
        "colab": {
          "base_uri": "https://localhost:8080/",
          "height": 34
        },
        "id": "_9ydSMEmSpy4",
        "outputId": "941e405b-58b5-4596-b8e1-886139cba609"
      },
      "execution_count": null,
      "outputs": [
        {
          "output_type": "display_data",
          "data": {
            "text/html": [
              "3.23333333333333"
            ],
            "text/markdown": "3.23333333333333",
            "text/latex": "3.23333333333333",
            "text/plain": [
              "[1] 3.233333"
            ]
          },
          "metadata": {}
        }
      ]
    },
    {
      "cell_type": "code",
      "source": [
        "count_nonzero <- sum(numbers != 0)\n",
        "\n",
        "print(count_nonzero)"
      ],
      "metadata": {
        "colab": {
          "base_uri": "https://localhost:8080/"
        },
        "id": "vOhnGVMoTBnz",
        "outputId": "b92c1d4e-4f95-4c8a-bb68-34855628928c"
      },
      "execution_count": null,
      "outputs": [
        {
          "output_type": "stream",
          "name": "stdout",
          "text": [
            "[1] 3\n"
          ]
        }
      ]
    },
    {
      "cell_type": "code",
      "source": [
        "numbers[3] <- round(numbers[3])\n",
        "\n",
        "print(numbers)"
      ],
      "metadata": {
        "colab": {
          "base_uri": "https://localhost:8080/"
        },
        "id": "gji1CK_MUUEZ",
        "outputId": "c3806eea-6729-41a6-e561-7f4159b021f3"
      },
      "execution_count": null,
      "outputs": [
        {
          "output_type": "stream",
          "name": "stdout",
          "text": [
            "[1] 1 3 6\n"
          ]
        }
      ]
    },
    {
      "cell_type": "code",
      "source": [
        "cumsum_numbers <- cumsum(numbers)\n",
        "\n",
        "print(cumsum_numbers)"
      ],
      "metadata": {
        "colab": {
          "base_uri": "https://localhost:8080/"
        },
        "id": "eZ6PhegXvXdL",
        "outputId": "01855a71-587d-42f1-ba81-d4a6b7037554"
      },
      "execution_count": null,
      "outputs": [
        {
          "output_type": "stream",
          "name": "stdout",
          "text": [
            "[1]  1  4 10\n"
          ]
        }
      ]
    },
    {
      "cell_type": "code",
      "source": [
        "sorted_numbers <- sort(numbers)\n",
        "\n",
        "print(sorted_numbers)"
      ],
      "metadata": {
        "colab": {
          "base_uri": "https://localhost:8080/"
        },
        "id": "nZSuT1uwvqMJ",
        "outputId": "5a939ba1-98ae-4653-9eda-d0aef7fe289b"
      },
      "execution_count": null,
      "outputs": [
        {
          "output_type": "stream",
          "name": "stdout",
          "text": [
            "[1] 1 3 6\n"
          ]
        }
      ]
    }
  ]
}