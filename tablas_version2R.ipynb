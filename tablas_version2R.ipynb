{
  "nbformat": 4,
  "nbformat_minor": 0,
  "metadata": {
    "colab": {
      "provenance": [],
      "authorship_tag": "ABX9TyMrsjM4wuAaSwTqhwV+tV97",
      "include_colab_link": true
    },
    "kernelspec": {
      "name": "ir",
      "display_name": "R"
    },
    "language_info": {
      "name": "R"
    }
  },
  "cells": [
    {
      "cell_type": "markdown",
      "metadata": {
        "id": "view-in-github",
        "colab_type": "text"
      },
      "source": [
        "<a href=\"https://colab.research.google.com/github/leoberDr/taller3_PLE/blob/main/tablas_version2R.ipynb\" target=\"_parent\"><img src=\"https://colab.research.google.com/assets/colab-badge.svg\" alt=\"Open In Colab\"/></a>"
      ]
    },
    {
      "cell_type": "code",
      "execution_count": null,
      "metadata": {
        "colab": {
          "base_uri": "https://localhost:8080/"
        },
        "id": "_Jsi9WkQwj91",
        "outputId": "2db03752-3a5c-46f6-8f92-e3b73c4450f8"
      },
      "outputs": [
        {
          "output_type": "stream",
          "name": "stdout",
          "text": [
            "      Sabor precio\n",
            "1      mora   3500\n",
            "2  vainilla   4700\n",
            "3 chocolate   6500\n",
            "4      mora   5200\n",
            "5 chocolate   5700\n"
          ]
        }
      ],
      "source": [
        "conos <- data.frame(\n",
        "  Sabor = c(\"mora\", \"vainilla\", \"chocolate\", \"mora\", \"chocolate\"),\n",
        "  precio = c(3500, 4700, 6500, 5200, 5700)\n",
        ")\n",
        "\n",
        "print(conos)"
      ]
    },
    {
      "cell_type": "code",
      "source": [
        "conos$Sabor"
      ],
      "metadata": {
        "colab": {
          "base_uri": "https://localhost:8080/",
          "height": 34
        },
        "id": "ChgfRgVfxIEd",
        "outputId": "e3d02e6d-5cbc-4bc5-888b-8ebbbf073b9d"
      },
      "execution_count": null,
      "outputs": [
        {
          "output_type": "display_data",
          "data": {
            "text/html": [
              "<style>\n",
              ".list-inline {list-style: none; margin:0; padding: 0}\n",
              ".list-inline>li {display: inline-block}\n",
              ".list-inline>li:not(:last-child)::after {content: \"\\00b7\"; padding: 0 .5ex}\n",
              "</style>\n",
              "<ol class=list-inline><li>'mora'</li><li>'vainilla'</li><li>'chocolate'</li><li>'mora'</li><li>'chocolate'</li></ol>\n"
            ],
            "text/markdown": "1. 'mora'\n2. 'vainilla'\n3. 'chocolate'\n4. 'mora'\n5. 'chocolate'\n\n\n",
            "text/latex": "\\begin{enumerate*}\n\\item 'mora'\n\\item 'vainilla'\n\\item 'chocolate'\n\\item 'mora'\n\\item 'chocolate'\n\\end{enumerate*}\n",
            "text/plain": [
              "[1] \"mora\"      \"vainilla\"  \"chocolate\" \"mora\"      \"chocolate\""
            ]
          },
          "metadata": {}
        }
      ]
    },
    {
      "cell_type": "code",
      "source": [
        "conos$precio"
      ],
      "metadata": {
        "colab": {
          "base_uri": "https://localhost:8080/",
          "height": 34
        },
        "id": "ozG9ljn9xdKj",
        "outputId": "efa1b7f1-0642-467e-9369-262bbac4f75b"
      },
      "execution_count": null,
      "outputs": [
        {
          "output_type": "display_data",
          "data": {
            "text/html": [
              "<style>\n",
              ".list-inline {list-style: none; margin:0; padding: 0}\n",
              ".list-inline>li {display: inline-block}\n",
              ".list-inline>li:not(:last-child)::after {content: \"\\00b7\"; padding: 0 .5ex}\n",
              "</style>\n",
              "<ol class=list-inline><li>3500</li><li>4700</li><li>6500</li><li>5200</li><li>5700</li></ol>\n"
            ],
            "text/markdown": "1. 3500\n2. 4700\n3. 6500\n4. 5200\n5. 5700\n\n\n",
            "text/latex": "\\begin{enumerate*}\n\\item 3500\n\\item 4700\n\\item 6500\n\\item 5200\n\\item 5700\n\\end{enumerate*}\n",
            "text/plain": [
              "[1] 3500 4700 6500 5200 5700"
            ]
          },
          "metadata": {}
        }
      ]
    },
    {
      "cell_type": "code",
      "source": [
        "conos [ c(\"Sabor\", \"precio\")]"
      ],
      "metadata": {
        "colab": {
          "base_uri": "https://localhost:8080/",
          "height": 255
        },
        "id": "-PJnd2HixfR3",
        "outputId": "c0aac44b-c9c5-4d2a-f858-78de843eb517"
      },
      "execution_count": null,
      "outputs": [
        {
          "output_type": "display_data",
          "data": {
            "text/html": [
              "<table class=\"dataframe\">\n",
              "<caption>A data.frame: 5 × 2</caption>\n",
              "<thead>\n",
              "\t<tr><th scope=col>Sabor</th><th scope=col>precio</th></tr>\n",
              "\t<tr><th scope=col>&lt;chr&gt;</th><th scope=col>&lt;dbl&gt;</th></tr>\n",
              "</thead>\n",
              "<tbody>\n",
              "\t<tr><td>mora     </td><td>3500</td></tr>\n",
              "\t<tr><td>vainilla </td><td>4700</td></tr>\n",
              "\t<tr><td>chocolate</td><td>6500</td></tr>\n",
              "\t<tr><td>mora     </td><td>5200</td></tr>\n",
              "\t<tr><td>chocolate</td><td>5700</td></tr>\n",
              "</tbody>\n",
              "</table>\n"
            ],
            "text/markdown": "\nA data.frame: 5 × 2\n\n| Sabor &lt;chr&gt; | precio &lt;dbl&gt; |\n|---|---|\n| mora      | 3500 |\n| vainilla  | 4700 |\n| chocolate | 6500 |\n| mora      | 5200 |\n| chocolate | 5700 |\n\n",
            "text/latex": "A data.frame: 5 × 2\n\\begin{tabular}{ll}\n Sabor & precio\\\\\n <chr> & <dbl>\\\\\n\\hline\n\t mora      & 3500\\\\\n\t vainilla  & 4700\\\\\n\t chocolate & 6500\\\\\n\t mora      & 5200\\\\\n\t chocolate & 5700\\\\\n\\end{tabular}\n",
            "text/plain": [
              "  Sabor     precio\n",
              "1 mora      3500  \n",
              "2 vainilla  4700  \n",
              "3 chocolate 6500  \n",
              "4 mora      5200  \n",
              "5 chocolate 5700  "
            ]
          },
          "metadata": {}
        }
      ]
    },
    {
      "cell_type": "code",
      "source": [
        "conos[order(conos$Sabor, decreasing = TRUE), ]"
      ],
      "metadata": {
        "colab": {
          "base_uri": "https://localhost:8080/",
          "height": 255
        },
        "id": "kFbFwncxyEft",
        "outputId": "739c9bd4-3984-40a2-de31-c3dd234ee0de"
      },
      "execution_count": null,
      "outputs": [
        {
          "output_type": "display_data",
          "data": {
            "text/html": [
              "<table class=\"dataframe\">\n",
              "<caption>A data.frame: 5 × 2</caption>\n",
              "<thead>\n",
              "\t<tr><th></th><th scope=col>Sabor</th><th scope=col>precio</th></tr>\n",
              "\t<tr><th></th><th scope=col>&lt;chr&gt;</th><th scope=col>&lt;dbl&gt;</th></tr>\n",
              "</thead>\n",
              "<tbody>\n",
              "\t<tr><th scope=row>2</th><td>vainilla </td><td>4700</td></tr>\n",
              "\t<tr><th scope=row>1</th><td>mora     </td><td>3500</td></tr>\n",
              "\t<tr><th scope=row>4</th><td>mora     </td><td>5200</td></tr>\n",
              "\t<tr><th scope=row>3</th><td>chocolate</td><td>6500</td></tr>\n",
              "\t<tr><th scope=row>5</th><td>chocolate</td><td>5700</td></tr>\n",
              "</tbody>\n",
              "</table>\n"
            ],
            "text/markdown": "\nA data.frame: 5 × 2\n\n| <!--/--> | Sabor &lt;chr&gt; | precio &lt;dbl&gt; |\n|---|---|---|\n| 2 | vainilla  | 4700 |\n| 1 | mora      | 3500 |\n| 4 | mora      | 5200 |\n| 3 | chocolate | 6500 |\n| 5 | chocolate | 5700 |\n\n",
            "text/latex": "A data.frame: 5 × 2\n\\begin{tabular}{r|ll}\n  & Sabor & precio\\\\\n  & <chr> & <dbl>\\\\\n\\hline\n\t2 & vainilla  & 4700\\\\\n\t1 & mora      & 3500\\\\\n\t4 & mora      & 5200\\\\\n\t3 & chocolate & 6500\\\\\n\t5 & chocolate & 5700\\\\\n\\end{tabular}\n",
            "text/plain": [
              "  Sabor     precio\n",
              "2 vainilla  4700  \n",
              "1 mora      3500  \n",
              "4 mora      5200  \n",
              "3 chocolate 6500  \n",
              "5 chocolate 5700  "
            ]
          },
          "metadata": {}
        }
      ]
    },
    {
      "cell_type": "code",
      "source": [
        "head(conos, 2)"
      ],
      "metadata": {
        "colab": {
          "base_uri": "https://localhost:8080/",
          "height": 161
        },
        "id": "XfiqKm58yn8Z",
        "outputId": "7c5caccb-eec4-4178-aba0-4d04b75e24fd"
      },
      "execution_count": null,
      "outputs": [
        {
          "output_type": "display_data",
          "data": {
            "text/html": [
              "<table class=\"dataframe\">\n",
              "<caption>A data.frame: 2 × 2</caption>\n",
              "<thead>\n",
              "\t<tr><th></th><th scope=col>Sabor</th><th scope=col>precio</th></tr>\n",
              "\t<tr><th></th><th scope=col>&lt;chr&gt;</th><th scope=col>&lt;dbl&gt;</th></tr>\n",
              "</thead>\n",
              "<tbody>\n",
              "\t<tr><th scope=row>1</th><td>mora    </td><td>3500</td></tr>\n",
              "\t<tr><th scope=row>2</th><td>vainilla</td><td>4700</td></tr>\n",
              "</tbody>\n",
              "</table>\n"
            ],
            "text/markdown": "\nA data.frame: 2 × 2\n\n| <!--/--> | Sabor &lt;chr&gt; | precio &lt;dbl&gt; |\n|---|---|---|\n| 1 | mora     | 3500 |\n| 2 | vainilla | 4700 |\n\n",
            "text/latex": "A data.frame: 2 × 2\n\\begin{tabular}{r|ll}\n  & Sabor & precio\\\\\n  & <chr> & <dbl>\\\\\n\\hline\n\t1 & mora     & 3500\\\\\n\t2 & vainilla & 4700\\\\\n\\end{tabular}\n",
            "text/plain": [
              "  Sabor    precio\n",
              "1 mora     3500  \n",
              "2 vainilla 4700  "
            ]
          },
          "metadata": {}
        }
      ]
    },
    {
      "cell_type": "code",
      "source": [
        "tail(conos, 1)"
      ],
      "metadata": {
        "colab": {
          "base_uri": "https://localhost:8080/",
          "height": 129
        },
        "id": "5CDgTrTvzR_S",
        "outputId": "ae5fc158-e9a5-4360-8006-3b75c996dfb7"
      },
      "execution_count": null,
      "outputs": [
        {
          "output_type": "display_data",
          "data": {
            "text/html": [
              "<table class=\"dataframe\">\n",
              "<caption>A data.frame: 1 × 2</caption>\n",
              "<thead>\n",
              "\t<tr><th></th><th scope=col>Sabor</th><th scope=col>precio</th></tr>\n",
              "\t<tr><th></th><th scope=col>&lt;chr&gt;</th><th scope=col>&lt;dbl&gt;</th></tr>\n",
              "</thead>\n",
              "<tbody>\n",
              "\t<tr><th scope=row>5</th><td>chocolate</td><td>5700</td></tr>\n",
              "</tbody>\n",
              "</table>\n"
            ],
            "text/markdown": "\nA data.frame: 1 × 2\n\n| <!--/--> | Sabor &lt;chr&gt; | precio &lt;dbl&gt; |\n|---|---|---|\n| 5 | chocolate | 5700 |\n\n",
            "text/latex": "A data.frame: 1 × 2\n\\begin{tabular}{r|ll}\n  & Sabor & precio\\\\\n  & <chr> & <dbl>\\\\\n\\hline\n\t5 & chocolate & 5700\\\\\n\\end{tabular}\n",
            "text/plain": [
              "  Sabor     precio\n",
              "5 chocolate 5700  "
            ]
          },
          "metadata": {}
        }
      ]
    },
    {
      "cell_type": "code",
      "source": [
        "sample(conos)"
      ],
      "metadata": {
        "colab": {
          "base_uri": "https://localhost:8080/",
          "height": 255
        },
        "id": "lVqacnzWzaXA",
        "outputId": "62a08e85-52be-4b4c-d9ba-e0dc26e21a5a"
      },
      "execution_count": null,
      "outputs": [
        {
          "output_type": "display_data",
          "data": {
            "text/html": [
              "<table class=\"dataframe\">\n",
              "<caption>A data.frame: 5 × 2</caption>\n",
              "<thead>\n",
              "\t<tr><th scope=col>Sabor</th><th scope=col>precio</th></tr>\n",
              "\t<tr><th scope=col>&lt;chr&gt;</th><th scope=col>&lt;dbl&gt;</th></tr>\n",
              "</thead>\n",
              "<tbody>\n",
              "\t<tr><td>mora     </td><td>3500</td></tr>\n",
              "\t<tr><td>vainilla </td><td>4700</td></tr>\n",
              "\t<tr><td>chocolate</td><td>6500</td></tr>\n",
              "\t<tr><td>mora     </td><td>5200</td></tr>\n",
              "\t<tr><td>chocolate</td><td>5700</td></tr>\n",
              "</tbody>\n",
              "</table>\n"
            ],
            "text/markdown": "\nA data.frame: 5 × 2\n\n| Sabor &lt;chr&gt; | precio &lt;dbl&gt; |\n|---|---|\n| mora      | 3500 |\n| vainilla  | 4700 |\n| chocolate | 6500 |\n| mora      | 5200 |\n| chocolate | 5700 |\n\n",
            "text/latex": "A data.frame: 5 × 2\n\\begin{tabular}{ll}\n Sabor & precio\\\\\n <chr> & <dbl>\\\\\n\\hline\n\t mora      & 3500\\\\\n\t vainilla  & 4700\\\\\n\t chocolate & 6500\\\\\n\t mora      & 5200\\\\\n\t chocolate & 5700\\\\\n\\end{tabular}\n",
            "text/plain": [
              "  Sabor     precio\n",
              "1 mora      3500  \n",
              "2 vainilla  4700  \n",
              "3 chocolate 6500  \n",
              "4 mora      5200  \n",
              "5 chocolate 5700  "
            ]
          },
          "metadata": {}
        }
      ]
    },
    {
      "cell_type": "code",
      "source": [
        "conos[sample(nrow(conos), 1), ]"
      ],
      "metadata": {
        "colab": {
          "base_uri": "https://localhost:8080/",
          "height": 129
        },
        "id": "Y9KLcXjBznVy",
        "outputId": "1d93da49-df28-481b-c3d1-4e043b0e80bc"
      },
      "execution_count": null,
      "outputs": [
        {
          "output_type": "display_data",
          "data": {
            "text/html": [
              "<table class=\"dataframe\">\n",
              "<caption>A data.frame: 1 × 2</caption>\n",
              "<thead>\n",
              "\t<tr><th></th><th scope=col>Sabor</th><th scope=col>precio</th></tr>\n",
              "\t<tr><th></th><th scope=col>&lt;chr&gt;</th><th scope=col>&lt;dbl&gt;</th></tr>\n",
              "</thead>\n",
              "<tbody>\n",
              "\t<tr><th scope=row>4</th><td>mora</td><td>5200</td></tr>\n",
              "</tbody>\n",
              "</table>\n"
            ],
            "text/markdown": "\nA data.frame: 1 × 2\n\n| <!--/--> | Sabor &lt;chr&gt; | precio &lt;dbl&gt; |\n|---|---|---|\n| 4 | mora | 5200 |\n\n",
            "text/latex": "A data.frame: 1 × 2\n\\begin{tabular}{r|ll}\n  & Sabor & precio\\\\\n  & <chr> & <dbl>\\\\\n\\hline\n\t4 & mora & 5200\\\\\n\\end{tabular}\n",
            "text/plain": [
              "  Sabor precio\n",
              "4 mora  5200  "
            ]
          },
          "metadata": {}
        }
      ]
    },
    {
      "cell_type": "code",
      "source": [
        "summary(conos)"
      ],
      "metadata": {
        "colab": {
          "base_uri": "https://localhost:8080/",
          "height": 139
        },
        "id": "b81bV3uU0AiE",
        "outputId": "4e2c07b7-2fa9-4812-fd5f-87f02663c298"
      },
      "execution_count": null,
      "outputs": [
        {
          "output_type": "display_data",
          "data": {
            "text/plain": [
              "    Sabor               precio    \n",
              " Length:5           Min.   :3500  \n",
              " Class :character   1st Qu.:4700  \n",
              " Mode  :character   Median :5200  \n",
              "                    Mean   :5120  \n",
              "                    3rd Qu.:5700  \n",
              "                    Max.   :6500  "
            ]
          },
          "metadata": {}
        }
      ]
    },
    {
      "cell_type": "code",
      "source": [
        "str(conos)"
      ],
      "metadata": {
        "colab": {
          "base_uri": "https://localhost:8080/"
        },
        "id": "8pxBXzi20Lk9",
        "outputId": "20383d32-c9e2-4c99-fa03-3e791029c4d3"
      },
      "execution_count": null,
      "outputs": [
        {
          "output_type": "stream",
          "name": "stdout",
          "text": [
            "'data.frame':\t5 obs. of  2 variables:\n",
            " $ Sabor : chr  \"mora\" \"vainilla\" \"chocolate\" \"mora\" ...\n",
            " $ precio: num  3500 4700 6500 5200 5700\n"
          ]
        }
      ]
    },
    {
      "cell_type": "code",
      "source": [
        "row.names(conos)"
      ],
      "metadata": {
        "colab": {
          "base_uri": "https://localhost:8080/",
          "height": 34
        },
        "id": "G14lUT8c0cQU",
        "outputId": "e4f3d8de-8843-4dd4-9d30-2ee58042e43c"
      },
      "execution_count": null,
      "outputs": [
        {
          "output_type": "display_data",
          "data": {
            "text/html": [
              "<style>\n",
              ".list-inline {list-style: none; margin:0; padding: 0}\n",
              ".list-inline>li {display: inline-block}\n",
              ".list-inline>li:not(:last-child)::after {content: \"\\00b7\"; padding: 0 .5ex}\n",
              "</style>\n",
              "<ol class=list-inline><li>'1'</li><li>'2'</li><li>'3'</li><li>'4'</li><li>'5'</li></ol>\n"
            ],
            "text/markdown": "1. '1'\n2. '2'\n3. '3'\n4. '4'\n5. '5'\n\n\n",
            "text/latex": "\\begin{enumerate*}\n\\item '1'\n\\item '2'\n\\item '3'\n\\item '4'\n\\item '5'\n\\end{enumerate*}\n",
            "text/plain": [
              "[1] \"1\" \"2\" \"3\" \"4\" \"5\""
            ]
          },
          "metadata": {}
        }
      ]
    },
    {
      "cell_type": "code",
      "source": [
        "conos[4,]"
      ],
      "metadata": {
        "colab": {
          "base_uri": "https://localhost:8080/",
          "height": 129
        },
        "id": "piLUWrft0xRt",
        "outputId": "4dc4e207-258b-408e-f98a-e1aa755f978f"
      },
      "execution_count": null,
      "outputs": [
        {
          "output_type": "display_data",
          "data": {
            "text/html": [
              "<table class=\"dataframe\">\n",
              "<caption>A data.frame: 1 × 2</caption>\n",
              "<thead>\n",
              "\t<tr><th></th><th scope=col>Sabor</th><th scope=col>precio</th></tr>\n",
              "\t<tr><th></th><th scope=col>&lt;chr&gt;</th><th scope=col>&lt;dbl&gt;</th></tr>\n",
              "</thead>\n",
              "<tbody>\n",
              "\t<tr><th scope=row>4</th><td>mora</td><td>5200</td></tr>\n",
              "</tbody>\n",
              "</table>\n"
            ],
            "text/markdown": "\nA data.frame: 1 × 2\n\n| <!--/--> | Sabor &lt;chr&gt; | precio &lt;dbl&gt; |\n|---|---|---|\n| 4 | mora | 5200 |\n\n",
            "text/latex": "A data.frame: 1 × 2\n\\begin{tabular}{r|ll}\n  & Sabor & precio\\\\\n  & <chr> & <dbl>\\\\\n\\hline\n\t4 & mora & 5200\\\\\n\\end{tabular}\n",
            "text/plain": [
              "  Sabor precio\n",
              "4 mora  5200  "
            ]
          },
          "metadata": {}
        }
      ]
    },
    {
      "cell_type": "code",
      "source": [
        "conos$precio[3]"
      ],
      "metadata": {
        "colab": {
          "base_uri": "https://localhost:8080/",
          "height": 34
        },
        "id": "hCvquJzp1ZRJ",
        "outputId": "170705f6-daa7-462f-a314-11948427dc44"
      },
      "execution_count": null,
      "outputs": [
        {
          "output_type": "display_data",
          "data": {
            "text/html": [
              "6500"
            ],
            "text/markdown": "6500",
            "text/latex": "6500",
            "text/plain": [
              "[1] 6500"
            ]
          },
          "metadata": {}
        }
      ]
    },
    {
      "cell_type": "code",
      "source": [
        "rownames(conos) <- make.unique(as.character(conos$Sabor))\n",
        "conos"
      ],
      "metadata": {
        "colab": {
          "base_uri": "https://localhost:8080/",
          "height": 255
        },
        "id": "3nMWkYdZkd19",
        "outputId": "2f67c3d4-ba84-4200-f3b8-e4f68c94d06e"
      },
      "execution_count": null,
      "outputs": [
        {
          "output_type": "display_data",
          "data": {
            "text/html": [
              "<table class=\"dataframe\">\n",
              "<caption>A data.frame: 5 × 2</caption>\n",
              "<thead>\n",
              "\t<tr><th></th><th scope=col>Sabor</th><th scope=col>precio</th></tr>\n",
              "\t<tr><th></th><th scope=col>&lt;chr&gt;</th><th scope=col>&lt;dbl&gt;</th></tr>\n",
              "</thead>\n",
              "<tbody>\n",
              "\t<tr><th scope=row>mora</th><td>mora     </td><td>3500</td></tr>\n",
              "\t<tr><th scope=row>vainilla</th><td>vainilla </td><td>4700</td></tr>\n",
              "\t<tr><th scope=row>chocolate</th><td>chocolate</td><td>6500</td></tr>\n",
              "\t<tr><th scope=row>mora.1</th><td>mora     </td><td>5200</td></tr>\n",
              "\t<tr><th scope=row>chocolate.1</th><td>chocolate</td><td>5700</td></tr>\n",
              "</tbody>\n",
              "</table>\n"
            ],
            "text/markdown": "\nA data.frame: 5 × 2\n\n| <!--/--> | Sabor &lt;chr&gt; | precio &lt;dbl&gt; |\n|---|---|---|\n| mora | mora      | 3500 |\n| vainilla | vainilla  | 4700 |\n| chocolate | chocolate | 6500 |\n| mora.1 | mora      | 5200 |\n| chocolate.1 | chocolate | 5700 |\n\n",
            "text/latex": "A data.frame: 5 × 2\n\\begin{tabular}{r|ll}\n  & Sabor & precio\\\\\n  & <chr> & <dbl>\\\\\n\\hline\n\tmora & mora      & 3500\\\\\n\tvainilla & vainilla  & 4700\\\\\n\tchocolate & chocolate & 6500\\\\\n\tmora.1 & mora      & 5200\\\\\n\tchocolate.1 & chocolate & 5700\\\\\n\\end{tabular}\n",
            "text/plain": [
              "            Sabor     precio\n",
              "mora        mora      3500  \n",
              "vainilla    vainilla  4700  \n",
              "chocolate   chocolate 6500  \n",
              "mora.1      mora      5200  \n",
              "chocolate.1 chocolate 5700  "
            ]
          },
          "metadata": {}
        }
      ]
    },
    {
      "cell_type": "code",
      "source": [
        "resultado <- conos[conos$precio > 5000, ]\n",
        "\n",
        "\n",
        "resultado"
      ],
      "metadata": {
        "colab": {
          "base_uri": "https://localhost:8080/",
          "height": 192
        },
        "id": "KYm8s0611fSO",
        "outputId": "e68acdd5-c1c3-4c2f-86c1-c474003ddb94"
      },
      "execution_count": null,
      "outputs": [
        {
          "output_type": "display_data",
          "data": {
            "text/html": [
              "<table class=\"dataframe\">\n",
              "<caption>A data.frame: 3 × 2</caption>\n",
              "<thead>\n",
              "\t<tr><th></th><th scope=col>Sabor</th><th scope=col>precio</th></tr>\n",
              "\t<tr><th></th><th scope=col>&lt;chr&gt;</th><th scope=col>&lt;dbl&gt;</th></tr>\n",
              "</thead>\n",
              "<tbody>\n",
              "\t<tr><th scope=row>chocolate</th><td>chocolate</td><td>6500</td></tr>\n",
              "\t<tr><th scope=row>mora.1</th><td>mora     </td><td>5200</td></tr>\n",
              "\t<tr><th scope=row>chocolate.1</th><td>chocolate</td><td>5700</td></tr>\n",
              "</tbody>\n",
              "</table>\n"
            ],
            "text/markdown": "\nA data.frame: 3 × 2\n\n| <!--/--> | Sabor &lt;chr&gt; | precio &lt;dbl&gt; |\n|---|---|---|\n| chocolate | chocolate | 6500 |\n| mora.1 | mora      | 5200 |\n| chocolate.1 | chocolate | 5700 |\n\n",
            "text/latex": "A data.frame: 3 × 2\n\\begin{tabular}{r|ll}\n  & Sabor & precio\\\\\n  & <chr> & <dbl>\\\\\n\\hline\n\tchocolate & chocolate & 6500\\\\\n\tmora.1 & mora      & 5200\\\\\n\tchocolate.1 & chocolate & 5700\\\\\n\\end{tabular}\n",
            "text/plain": [
              "            Sabor     precio\n",
              "chocolate   chocolate 6500  \n",
              "mora.1      mora      5200  \n",
              "chocolate.1 chocolate 5700  "
            ]
          },
          "metadata": {}
        }
      ]
    },
    {
      "cell_type": "code",
      "source": [
        "resultado2 <- conos[conos$precio > 3000 & conos$precio < 5000, ]\n",
        "resultado2"
      ],
      "metadata": {
        "colab": {
          "base_uri": "https://localhost:8080/",
          "height": 161
        },
        "id": "Ctn2F2XI37SS",
        "outputId": "9bb3866f-582e-45b6-c850-b90313987615"
      },
      "execution_count": null,
      "outputs": [
        {
          "output_type": "display_data",
          "data": {
            "text/html": [
              "<table class=\"dataframe\">\n",
              "<caption>A data.frame: 2 × 2</caption>\n",
              "<thead>\n",
              "\t<tr><th></th><th scope=col>Sabor</th><th scope=col>precio</th></tr>\n",
              "\t<tr><th></th><th scope=col>&lt;chr&gt;</th><th scope=col>&lt;dbl&gt;</th></tr>\n",
              "</thead>\n",
              "<tbody>\n",
              "\t<tr><th scope=row>mora</th><td>mora    </td><td>3500</td></tr>\n",
              "\t<tr><th scope=row>vainilla</th><td>vainilla</td><td>4700</td></tr>\n",
              "</tbody>\n",
              "</table>\n"
            ],
            "text/markdown": "\nA data.frame: 2 × 2\n\n| <!--/--> | Sabor &lt;chr&gt; | precio &lt;dbl&gt; |\n|---|---|---|\n| mora | mora     | 3500 |\n| vainilla | vainilla | 4700 |\n\n",
            "text/latex": "A data.frame: 2 × 2\n\\begin{tabular}{r|ll}\n  & Sabor & precio\\\\\n  & <chr> & <dbl>\\\\\n\\hline\n\tmora & mora     & 3500\\\\\n\tvainilla & vainilla & 4700\\\\\n\\end{tabular}\n",
            "text/plain": [
              "         Sabor    precio\n",
              "mora     mora     3500  \n",
              "vainilla vainilla 4700  "
            ]
          },
          "metadata": {}
        }
      ]
    },
    {
      "cell_type": "code",
      "source": [
        "resultado_chocolate <- conos[conos$Sabor == \"chocolate\" & conos$precio < 6000, ]\n",
        "resultado_chocolate"
      ],
      "metadata": {
        "colab": {
          "base_uri": "https://localhost:8080/",
          "height": 129
        },
        "id": "ZlQkqHzQjvqf",
        "outputId": "79a75915-3645-4d87-ecdd-c6ebf4b4f241"
      },
      "execution_count": null,
      "outputs": [
        {
          "output_type": "display_data",
          "data": {
            "text/html": [
              "<table class=\"dataframe\">\n",
              "<caption>A data.frame: 1 × 2</caption>\n",
              "<thead>\n",
              "\t<tr><th></th><th scope=col>Sabor</th><th scope=col>precio</th></tr>\n",
              "\t<tr><th></th><th scope=col>&lt;chr&gt;</th><th scope=col>&lt;dbl&gt;</th></tr>\n",
              "</thead>\n",
              "<tbody>\n",
              "\t<tr><th scope=row>chocolate.1</th><td>chocolate</td><td>5700</td></tr>\n",
              "</tbody>\n",
              "</table>\n"
            ],
            "text/markdown": "\nA data.frame: 1 × 2\n\n| <!--/--> | Sabor &lt;chr&gt; | precio &lt;dbl&gt; |\n|---|---|---|\n| chocolate.1 | chocolate | 5700 |\n\n",
            "text/latex": "A data.frame: 1 × 2\n\\begin{tabular}{r|ll}\n  & Sabor & precio\\\\\n  & <chr> & <dbl>\\\\\n\\hline\n\tchocolate.1 & chocolate & 5700\\\\\n\\end{tabular}\n",
            "text/plain": [
              "            Sabor     precio\n",
              "chocolate.1 chocolate 5700  "
            ]
          },
          "metadata": {}
        }
      ]
    },
    {
      "cell_type": "markdown",
      "source": [
        "#segunda parte de tablas en R"
      ],
      "metadata": {
        "id": "lOThIx1UHDFr"
      }
    },
    {
      "cell_type": "code",
      "source": [
        "valoracion <- data.frame(\n",
        "  Tipo = c(\"mora\", \"chocolate\", \"vainilla\"),\n",
        "  Calificacion = c(2.5, 3.5, 4.0)\n",
        ")\n",
        "\n",
        "\n",
        "valoracion\n"
      ],
      "metadata": {
        "id": "ZMXxKhnllIEs",
        "colab": {
          "base_uri": "https://localhost:8080/",
          "height": 192
        },
        "outputId": "4e0584f3-793b-4ab7-b0e6-d8c1a54496a5"
      },
      "execution_count": null,
      "outputs": [
        {
          "output_type": "display_data",
          "data": {
            "text/html": [
              "<table class=\"dataframe\">\n",
              "<caption>A data.frame: 3 × 2</caption>\n",
              "<thead>\n",
              "\t<tr><th scope=col>Tipo</th><th scope=col>Calificacion</th></tr>\n",
              "\t<tr><th scope=col>&lt;chr&gt;</th><th scope=col>&lt;dbl&gt;</th></tr>\n",
              "</thead>\n",
              "<tbody>\n",
              "\t<tr><td>mora     </td><td>2.5</td></tr>\n",
              "\t<tr><td>chocolate</td><td>3.5</td></tr>\n",
              "\t<tr><td>vainilla </td><td>4.0</td></tr>\n",
              "</tbody>\n",
              "</table>\n"
            ],
            "text/markdown": "\nA data.frame: 3 × 2\n\n| Tipo &lt;chr&gt; | Calificacion &lt;dbl&gt; |\n|---|---|\n| mora      | 2.5 |\n| chocolate | 3.5 |\n| vainilla  | 4.0 |\n\n",
            "text/latex": "A data.frame: 3 × 2\n\\begin{tabular}{ll}\n Tipo & Calificacion\\\\\n <chr> & <dbl>\\\\\n\\hline\n\t mora      & 2.5\\\\\n\t chocolate & 3.5\\\\\n\t vainilla  & 4.0\\\\\n\\end{tabular}\n",
            "text/plain": [
              "  Tipo      Calificacion\n",
              "1 mora      2.5         \n",
              "2 chocolate 3.5         \n",
              "3 vainilla  4.0         "
            ]
          },
          "metadata": {}
        }
      ]
    },
    {
      "cell_type": "markdown",
      "source": [
        "#Marge"
      ],
      "metadata": {
        "id": "faCRzGasHRUn"
      }
    },
    {
      "cell_type": "code",
      "source": [
        "tabla_comple <- merge(conos, valoracion, by.x = \"Sabor\", by.y = \"Tipo\")\n",
        "tabla_comple"
      ],
      "metadata": {
        "colab": {
          "base_uri": "https://localhost:8080/",
          "height": 255
        },
        "id": "Hgv4ha0zHOJN",
        "outputId": "6a63aec3-c38c-48ad-cf9e-509929521dd1"
      },
      "execution_count": null,
      "outputs": [
        {
          "output_type": "display_data",
          "data": {
            "text/html": [
              "<table class=\"dataframe\">\n",
              "<caption>A data.frame: 5 × 3</caption>\n",
              "<thead>\n",
              "\t<tr><th scope=col>Sabor</th><th scope=col>precio</th><th scope=col>Calificacion</th></tr>\n",
              "\t<tr><th scope=col>&lt;chr&gt;</th><th scope=col>&lt;dbl&gt;</th><th scope=col>&lt;dbl&gt;</th></tr>\n",
              "</thead>\n",
              "<tbody>\n",
              "\t<tr><td>chocolate</td><td>6500</td><td>3.5</td></tr>\n",
              "\t<tr><td>chocolate</td><td>5700</td><td>3.5</td></tr>\n",
              "\t<tr><td>mora     </td><td>3500</td><td>2.5</td></tr>\n",
              "\t<tr><td>mora     </td><td>5200</td><td>2.5</td></tr>\n",
              "\t<tr><td>vainilla </td><td>4700</td><td>4.0</td></tr>\n",
              "</tbody>\n",
              "</table>\n"
            ],
            "text/markdown": "\nA data.frame: 5 × 3\n\n| Sabor &lt;chr&gt; | precio &lt;dbl&gt; | Calificacion &lt;dbl&gt; |\n|---|---|---|\n| chocolate | 6500 | 3.5 |\n| chocolate | 5700 | 3.5 |\n| mora      | 3500 | 2.5 |\n| mora      | 5200 | 2.5 |\n| vainilla  | 4700 | 4.0 |\n\n",
            "text/latex": "A data.frame: 5 × 3\n\\begin{tabular}{lll}\n Sabor & precio & Calificacion\\\\\n <chr> & <dbl> & <dbl>\\\\\n\\hline\n\t chocolate & 6500 & 3.5\\\\\n\t chocolate & 5700 & 3.5\\\\\n\t mora      & 3500 & 2.5\\\\\n\t mora      & 5200 & 2.5\\\\\n\t vainilla  & 4700 & 4.0\\\\\n\\end{tabular}\n",
            "text/plain": [
              "  Sabor     precio Calificacion\n",
              "1 chocolate 6500   3.5         \n",
              "2 chocolate 5700   3.5         \n",
              "3 mora      3500   2.5         \n",
              "4 mora      5200   2.5         \n",
              "5 vainilla  4700   4.0         "
            ]
          },
          "metadata": {}
        }
      ]
    },
    {
      "cell_type": "code",
      "source": [
        "tabla_comple <- merge(conos, valoracion, by.x = \"Sabor\", by.y = \"Tipo\")\n",
        "\n",
        "\n",
        "tabla_comple$Tipo <- NULL\n",
        "\n",
        "tabla_comple"
      ],
      "metadata": {
        "colab": {
          "base_uri": "https://localhost:8080/",
          "height": 255
        },
        "id": "pJQdtlXfHgph",
        "outputId": "400afe86-a174-4c6f-846f-52d632fffd22"
      },
      "execution_count": null,
      "outputs": [
        {
          "output_type": "display_data",
          "data": {
            "text/html": [
              "<table class=\"dataframe\">\n",
              "<caption>A data.frame: 5 × 3</caption>\n",
              "<thead>\n",
              "\t<tr><th scope=col>Sabor</th><th scope=col>precio</th><th scope=col>Calificacion</th></tr>\n",
              "\t<tr><th scope=col>&lt;chr&gt;</th><th scope=col>&lt;dbl&gt;</th><th scope=col>&lt;dbl&gt;</th></tr>\n",
              "</thead>\n",
              "<tbody>\n",
              "\t<tr><td>chocolate</td><td>6500</td><td>3.5</td></tr>\n",
              "\t<tr><td>chocolate</td><td>5700</td><td>3.5</td></tr>\n",
              "\t<tr><td>mora     </td><td>3500</td><td>2.5</td></tr>\n",
              "\t<tr><td>mora     </td><td>5200</td><td>2.5</td></tr>\n",
              "\t<tr><td>vainilla </td><td>4700</td><td>4.0</td></tr>\n",
              "</tbody>\n",
              "</table>\n"
            ],
            "text/markdown": "\nA data.frame: 5 × 3\n\n| Sabor &lt;chr&gt; | precio &lt;dbl&gt; | Calificacion &lt;dbl&gt; |\n|---|---|---|\n| chocolate | 6500 | 3.5 |\n| chocolate | 5700 | 3.5 |\n| mora      | 3500 | 2.5 |\n| mora      | 5200 | 2.5 |\n| vainilla  | 4700 | 4.0 |\n\n",
            "text/latex": "A data.frame: 5 × 3\n\\begin{tabular}{lll}\n Sabor & precio & Calificacion\\\\\n <chr> & <dbl> & <dbl>\\\\\n\\hline\n\t chocolate & 6500 & 3.5\\\\\n\t chocolate & 5700 & 3.5\\\\\n\t mora      & 3500 & 2.5\\\\\n\t mora      & 5200 & 2.5\\\\\n\t vainilla  & 4700 & 4.0\\\\\n\\end{tabular}\n",
            "text/plain": [
              "  Sabor     precio Calificacion\n",
              "1 chocolate 6500   3.5         \n",
              "2 chocolate 5700   3.5         \n",
              "3 mora      3500   2.5         \n",
              "4 mora      5200   2.5         \n",
              "5 vainilla  4700   4.0         "
            ]
          },
          "metadata": {}
        }
      ]
    },
    {
      "cell_type": "markdown",
      "source": [
        "#column precio/calificacion"
      ],
      "metadata": {
        "id": "KXNlO3RFMOMv"
      }
    },
    {
      "cell_type": "code",
      "source": [
        "tabla_comple$`precio/calificacion` <- tabla_comple$precio / tabla_comple$Calificacion\n",
        "\n",
        "\n",
        "tabla_comple"
      ],
      "metadata": {
        "id": "LBp43MCQMIq7",
        "outputId": "5244a72c-7e63-4777-a18e-c95d6b3616f9",
        "colab": {
          "base_uri": "https://localhost:8080/",
          "height": 255
        }
      },
      "execution_count": null,
      "outputs": [
        {
          "output_type": "display_data",
          "data": {
            "text/html": [
              "<table class=\"dataframe\">\n",
              "<caption>A data.frame: 5 × 4</caption>\n",
              "<thead>\n",
              "\t<tr><th scope=col>Sabor</th><th scope=col>precio</th><th scope=col>Calificacion</th><th scope=col>precio/calificacion</th></tr>\n",
              "\t<tr><th scope=col>&lt;chr&gt;</th><th scope=col>&lt;dbl&gt;</th><th scope=col>&lt;dbl&gt;</th><th scope=col>&lt;dbl&gt;</th></tr>\n",
              "</thead>\n",
              "<tbody>\n",
              "\t<tr><td>chocolate</td><td>6500</td><td>3.5</td><td>1857.143</td></tr>\n",
              "\t<tr><td>chocolate</td><td>5700</td><td>3.5</td><td>1628.571</td></tr>\n",
              "\t<tr><td>mora     </td><td>3500</td><td>2.5</td><td>1400.000</td></tr>\n",
              "\t<tr><td>mora     </td><td>5200</td><td>2.5</td><td>2080.000</td></tr>\n",
              "\t<tr><td>vainilla </td><td>4700</td><td>4.0</td><td>1175.000</td></tr>\n",
              "</tbody>\n",
              "</table>\n"
            ],
            "text/markdown": "\nA data.frame: 5 × 4\n\n| Sabor &lt;chr&gt; | precio &lt;dbl&gt; | Calificacion &lt;dbl&gt; | precio/calificacion &lt;dbl&gt; |\n|---|---|---|---|\n| chocolate | 6500 | 3.5 | 1857.143 |\n| chocolate | 5700 | 3.5 | 1628.571 |\n| mora      | 3500 | 2.5 | 1400.000 |\n| mora      | 5200 | 2.5 | 2080.000 |\n| vainilla  | 4700 | 4.0 | 1175.000 |\n\n",
            "text/latex": "A data.frame: 5 × 4\n\\begin{tabular}{llll}\n Sabor & precio & Calificacion & precio/calificacion\\\\\n <chr> & <dbl> & <dbl> & <dbl>\\\\\n\\hline\n\t chocolate & 6500 & 3.5 & 1857.143\\\\\n\t chocolate & 5700 & 3.5 & 1628.571\\\\\n\t mora      & 3500 & 2.5 & 1400.000\\\\\n\t mora      & 5200 & 2.5 & 2080.000\\\\\n\t vainilla  & 4700 & 4.0 & 1175.000\\\\\n\\end{tabular}\n",
            "text/plain": [
              "  Sabor     precio Calificacion precio/calificacion\n",
              "1 chocolate 6500   3.5          1857.143           \n",
              "2 chocolate 5700   3.5          1628.571           \n",
              "3 mora      3500   2.5          1400.000           \n",
              "4 mora      5200   2.5          2080.000           \n",
              "5 vainilla  4700   4.0          1175.000           "
            ]
          },
          "metadata": {}
        }
      ]
    },
    {
      "cell_type": "markdown",
      "source": [
        "#.join"
      ],
      "metadata": {
        "id": "MxnwO_FkNu1V"
      }
    },
    {
      "cell_type": "code",
      "source": [],
      "metadata": {
        "id": "aA1s0-ZjMSOP"
      },
      "execution_count": null,
      "outputs": []
    },
    {
      "cell_type": "markdown",
      "source": [
        "#where"
      ],
      "metadata": {
        "id": "n_sUuJfWNxx0"
      }
    },
    {
      "cell_type": "code",
      "source": [
        "tabla_comple[tabla_comple$Sabor == \"vainilla\", ]\n"
      ],
      "metadata": {
        "id": "cgFctnfgNxKb",
        "outputId": "5ddb4395-29e1-400d-db9c-6824018852f6",
        "colab": {
          "base_uri": "https://localhost:8080/",
          "height": 129
        }
      },
      "execution_count": null,
      "outputs": [
        {
          "output_type": "display_data",
          "data": {
            "text/html": [
              "<table class=\"dataframe\">\n",
              "<caption>A data.frame: 1 × 4</caption>\n",
              "<thead>\n",
              "\t<tr><th></th><th scope=col>Sabor</th><th scope=col>precio</th><th scope=col>Calificacion</th><th scope=col>precio/calificacion</th></tr>\n",
              "\t<tr><th></th><th scope=col>&lt;chr&gt;</th><th scope=col>&lt;dbl&gt;</th><th scope=col>&lt;dbl&gt;</th><th scope=col>&lt;dbl&gt;</th></tr>\n",
              "</thead>\n",
              "<tbody>\n",
              "\t<tr><th scope=row>5</th><td>vainilla</td><td>4700</td><td>4</td><td>1175</td></tr>\n",
              "</tbody>\n",
              "</table>\n"
            ],
            "text/markdown": "\nA data.frame: 1 × 4\n\n| <!--/--> | Sabor &lt;chr&gt; | precio &lt;dbl&gt; | Calificacion &lt;dbl&gt; | precio/calificacion &lt;dbl&gt; |\n|---|---|---|---|---|\n| 5 | vainilla | 4700 | 4 | 1175 |\n\n",
            "text/latex": "A data.frame: 1 × 4\n\\begin{tabular}{r|llll}\n  & Sabor & precio & Calificacion & precio/calificacion\\\\\n  & <chr> & <dbl> & <dbl> & <dbl>\\\\\n\\hline\n\t5 & vainilla & 4700 & 4 & 1175\\\\\n\\end{tabular}\n",
            "text/plain": [
              "  Sabor    precio Calificacion precio/calificacion\n",
              "5 vainilla 4700   4            1175               "
            ]
          },
          "metadata": {}
        }
      ]
    },
    {
      "cell_type": "markdown",
      "source": [
        "#nuevo dataframe\n"
      ],
      "metadata": {
        "id": "0PHs_mzGOd48"
      }
    },
    {
      "cell_type": "code",
      "source": [
        "# Crear el data.frame en R\n",
        "helados <- data.frame(\n",
        "  Sabor = c(\"mora\", \"vainilla\", \"chocolate\", \"mora\", \"chocolate\", \"vainilla\"),\n",
        "  precio = c(3500, 4700, 6500, 5200, 5700, 4800),\n",
        "  Ciudad = c(\"Bogotá\", \"Bogotá\", \"Cali\", \"Medellin\", \"Bogotá\", \"Cali\")\n",
        ")\n",
        "\n",
        "# Mostrar el data.frame\n",
        "helados"
      ],
      "metadata": {
        "id": "KwHCCGKLOfoT",
        "outputId": "d7d4c409-6ad5-45cc-8747-6fdd808e6623",
        "colab": {
          "base_uri": "https://localhost:8080/",
          "height": 286
        }
      },
      "execution_count": null,
      "outputs": [
        {
          "output_type": "display_data",
          "data": {
            "text/html": [
              "<table class=\"dataframe\">\n",
              "<caption>A data.frame: 6 × 3</caption>\n",
              "<thead>\n",
              "\t<tr><th scope=col>Sabor</th><th scope=col>precio</th><th scope=col>Ciudad</th></tr>\n",
              "\t<tr><th scope=col>&lt;chr&gt;</th><th scope=col>&lt;dbl&gt;</th><th scope=col>&lt;chr&gt;</th></tr>\n",
              "</thead>\n",
              "<tbody>\n",
              "\t<tr><td>mora     </td><td>3500</td><td>Bogotá  </td></tr>\n",
              "\t<tr><td>vainilla </td><td>4700</td><td>Bogotá  </td></tr>\n",
              "\t<tr><td>chocolate</td><td>6500</td><td>Cali    </td></tr>\n",
              "\t<tr><td>mora     </td><td>5200</td><td>Medellin</td></tr>\n",
              "\t<tr><td>chocolate</td><td>5700</td><td>Bogotá  </td></tr>\n",
              "\t<tr><td>vainilla </td><td>4800</td><td>Cali    </td></tr>\n",
              "</tbody>\n",
              "</table>\n"
            ],
            "text/markdown": "\nA data.frame: 6 × 3\n\n| Sabor &lt;chr&gt; | precio &lt;dbl&gt; | Ciudad &lt;chr&gt; |\n|---|---|---|\n| mora      | 3500 | Bogotá   |\n| vainilla  | 4700 | Bogotá   |\n| chocolate | 6500 | Cali     |\n| mora      | 5200 | Medellin |\n| chocolate | 5700 | Bogotá   |\n| vainilla  | 4800 | Cali     |\n\n",
            "text/latex": "A data.frame: 6 × 3\n\\begin{tabular}{lll}\n Sabor & precio & Ciudad\\\\\n <chr> & <dbl> & <chr>\\\\\n\\hline\n\t mora      & 3500 & Bogotá  \\\\\n\t vainilla  & 4700 & Bogotá  \\\\\n\t chocolate & 6500 & Cali    \\\\\n\t mora      & 5200 & Medellin\\\\\n\t chocolate & 5700 & Bogotá  \\\\\n\t vainilla  & 4800 & Cali    \\\\\n\\end{tabular}\n",
            "text/plain": [
              "  Sabor     precio Ciudad  \n",
              "1 mora      3500   Bogotá  \n",
              "2 vainilla  4700   Bogotá  \n",
              "3 chocolate 6500   Cali    \n",
              "4 mora      5200   Medellin\n",
              "5 chocolate 5700   Bogotá  \n",
              "6 vainilla  4800   Cali    "
            ]
          },
          "metadata": {}
        }
      ]
    },
    {
      "cell_type": "markdown",
      "source": [
        "#equivalente a groupby"
      ],
      "metadata": {
        "id": "cYB8B5lXO6s8"
      }
    },
    {
      "cell_type": "code",
      "source": [
        "mean_precio_por_sabor <- aggregate(precio ~ Sabor, data = helados, FUN = mean)\n",
        "\n",
        "\n",
        "mean_precio_por_sabor"
      ],
      "metadata": {
        "id": "c0opAAuOOh1a",
        "outputId": "95837254-cb0c-4046-af74-06147165be8b",
        "colab": {
          "base_uri": "https://localhost:8080/",
          "height": 192
        }
      },
      "execution_count": null,
      "outputs": [
        {
          "output_type": "display_data",
          "data": {
            "text/html": [
              "<table class=\"dataframe\">\n",
              "<caption>A data.frame: 3 × 2</caption>\n",
              "<thead>\n",
              "\t<tr><th scope=col>Sabor</th><th scope=col>precio</th></tr>\n",
              "\t<tr><th scope=col>&lt;chr&gt;</th><th scope=col>&lt;dbl&gt;</th></tr>\n",
              "</thead>\n",
              "<tbody>\n",
              "\t<tr><td>chocolate</td><td>6100</td></tr>\n",
              "\t<tr><td>mora     </td><td>4350</td></tr>\n",
              "\t<tr><td>vainilla </td><td>4750</td></tr>\n",
              "</tbody>\n",
              "</table>\n"
            ],
            "text/markdown": "\nA data.frame: 3 × 2\n\n| Sabor &lt;chr&gt; | precio &lt;dbl&gt; |\n|---|---|\n| chocolate | 6100 |\n| mora      | 4350 |\n| vainilla  | 4750 |\n\n",
            "text/latex": "A data.frame: 3 × 2\n\\begin{tabular}{ll}\n Sabor & precio\\\\\n <chr> & <dbl>\\\\\n\\hline\n\t chocolate & 6100\\\\\n\t mora      & 4350\\\\\n\t vainilla  & 4750\\\\\n\\end{tabular}\n",
            "text/plain": [
              "  Sabor     precio\n",
              "1 chocolate 6100  \n",
              "2 mora      4350  \n",
              "3 vainilla  4750  "
            ]
          },
          "metadata": {}
        }
      ]
    },
    {
      "cell_type": "markdown",
      "source": [
        "#conteo de ciudades"
      ],
      "metadata": {
        "id": "caTHj6yMO-PN"
      }
    },
    {
      "cell_type": "code",
      "source": [
        "conteo <- table(helados$Ciudad)\n",
        "\n",
        "# Mostrar el resultado\n",
        "conteo"
      ],
      "metadata": {
        "id": "VIxE27DJO99_",
        "outputId": "24851c21-4090-4820-95ac-abae7b1130aa",
        "colab": {
          "base_uri": "https://localhost:8080/",
          "height": 69
        }
      },
      "execution_count": null,
      "outputs": [
        {
          "output_type": "display_data",
          "data": {
            "text/plain": [
              "\n",
              "  Bogotá     Cali Medellin \n",
              "       3        2        1 "
            ]
          },
          "metadata": {}
        }
      ]
    },
    {
      "cell_type": "markdown",
      "source": [],
      "metadata": {
        "id": "bjcEN3CjRpxa"
      }
    },
    {
      "cell_type": "code",
      "source": [
        "preciomax <- aggregate(precio ~ Ciudad, data = helados, FUN = max)\n",
        "\n",
        "preciomax\n"
      ],
      "metadata": {
        "id": "kC-I2rYHRn0H",
        "outputId": "858f51fc-5a7a-4173-96be-65e526a664ee",
        "colab": {
          "base_uri": "https://localhost:8080/",
          "height": 192
        }
      },
      "execution_count": null,
      "outputs": [
        {
          "output_type": "display_data",
          "data": {
            "text/html": [
              "<table class=\"dataframe\">\n",
              "<caption>A data.frame: 3 × 2</caption>\n",
              "<thead>\n",
              "\t<tr><th scope=col>Ciudad</th><th scope=col>precio</th></tr>\n",
              "\t<tr><th scope=col>&lt;chr&gt;</th><th scope=col>&lt;dbl&gt;</th></tr>\n",
              "</thead>\n",
              "<tbody>\n",
              "\t<tr><td>Bogotá  </td><td>5700</td></tr>\n",
              "\t<tr><td>Cali    </td><td>6500</td></tr>\n",
              "\t<tr><td>Medellin</td><td>5200</td></tr>\n",
              "</tbody>\n",
              "</table>\n"
            ],
            "text/markdown": "\nA data.frame: 3 × 2\n\n| Ciudad &lt;chr&gt; | precio &lt;dbl&gt; |\n|---|---|\n| Bogotá   | 5700 |\n| Cali     | 6500 |\n| Medellin | 5200 |\n\n",
            "text/latex": "A data.frame: 3 × 2\n\\begin{tabular}{ll}\n Ciudad & precio\\\\\n <chr> & <dbl>\\\\\n\\hline\n\t Bogotá   & 5700\\\\\n\t Cali     & 6500\\\\\n\t Medellin & 5200\\\\\n\\end{tabular}\n",
            "text/plain": [
              "  Ciudad   precio\n",
              "1 Bogotá   5700  \n",
              "2 Cali     6500  \n",
              "3 Medellin 5200  "
            ]
          },
          "metadata": {}
        }
      ]
    },
    {
      "cell_type": "markdown",
      "source": [
        "#precio total por sabor"
      ],
      "metadata": {
        "id": "79DEIn5pR83o"
      }
    },
    {
      "cell_type": "code",
      "source": [
        "suma_sabor <- aggregate(precio ~ Sabor, data = helados, FUN = sum)\n",
        "\n",
        "suma_sabor"
      ],
      "metadata": {
        "id": "u4uVBomJR9Rv",
        "outputId": "aa03a5d2-6c6a-43b9-b6b5-4d4ffa6ea70a",
        "colab": {
          "base_uri": "https://localhost:8080/",
          "height": 192
        }
      },
      "execution_count": null,
      "outputs": [
        {
          "output_type": "display_data",
          "data": {
            "text/html": [
              "<table class=\"dataframe\">\n",
              "<caption>A data.frame: 3 × 2</caption>\n",
              "<thead>\n",
              "\t<tr><th scope=col>Sabor</th><th scope=col>precio</th></tr>\n",
              "\t<tr><th scope=col>&lt;chr&gt;</th><th scope=col>&lt;dbl&gt;</th></tr>\n",
              "</thead>\n",
              "<tbody>\n",
              "\t<tr><td>chocolate</td><td>12200</td></tr>\n",
              "\t<tr><td>mora     </td><td> 8700</td></tr>\n",
              "\t<tr><td>vainilla </td><td> 9500</td></tr>\n",
              "</tbody>\n",
              "</table>\n"
            ],
            "text/markdown": "\nA data.frame: 3 × 2\n\n| Sabor &lt;chr&gt; | precio &lt;dbl&gt; |\n|---|---|\n| chocolate | 12200 |\n| mora      |  8700 |\n| vainilla  |  9500 |\n\n",
            "text/latex": "A data.frame: 3 × 2\n\\begin{tabular}{ll}\n Sabor & precio\\\\\n <chr> & <dbl>\\\\\n\\hline\n\t chocolate & 12200\\\\\n\t mora      &  8700\\\\\n\t vainilla  &  9500\\\\\n\\end{tabular}\n",
            "text/plain": [
              "  Sabor     precio\n",
              "1 chocolate 12200 \n",
              "2 mora       8700 \n",
              "3 vainilla   9500 "
            ]
          },
          "metadata": {}
        }
      ]
    },
    {
      "cell_type": "markdown",
      "source": [
        "#suma [pr ciudad"
      ],
      "metadata": {
        "id": "eu535Z9jSbIU"
      }
    },
    {
      "cell_type": "code",
      "source": [
        "suma_ciudad <- aggregate(precio ~ Ciudad, data = helados, FUN = sum)\n",
        "\n",
        "suma_ciudad"
      ],
      "metadata": {
        "id": "7yVQXKSHSb1v",
        "outputId": "65da2eb6-d7cf-4873-84d3-1f68ffdfaf23",
        "colab": {
          "base_uri": "https://localhost:8080/",
          "height": 192
        }
      },
      "execution_count": null,
      "outputs": [
        {
          "output_type": "display_data",
          "data": {
            "text/html": [
              "<table class=\"dataframe\">\n",
              "<caption>A data.frame: 3 × 2</caption>\n",
              "<thead>\n",
              "\t<tr><th scope=col>Ciudad</th><th scope=col>precio</th></tr>\n",
              "\t<tr><th scope=col>&lt;chr&gt;</th><th scope=col>&lt;dbl&gt;</th></tr>\n",
              "</thead>\n",
              "<tbody>\n",
              "\t<tr><td>Bogotá  </td><td>13900</td></tr>\n",
              "\t<tr><td>Cali    </td><td>11300</td></tr>\n",
              "\t<tr><td>Medellin</td><td> 5200</td></tr>\n",
              "</tbody>\n",
              "</table>\n"
            ],
            "text/markdown": "\nA data.frame: 3 × 2\n\n| Ciudad &lt;chr&gt; | precio &lt;dbl&gt; |\n|---|---|\n| Bogotá   | 13900 |\n| Cali     | 11300 |\n| Medellin |  5200 |\n\n",
            "text/latex": "A data.frame: 3 × 2\n\\begin{tabular}{ll}\n Ciudad & precio\\\\\n <chr> & <dbl>\\\\\n\\hline\n\t Bogotá   & 13900\\\\\n\t Cali     & 11300\\\\\n\t Medellin &  5200\\\\\n\\end{tabular}\n",
            "text/plain": [
              "  Ciudad   precio\n",
              "1 Bogotá   13900 \n",
              "2 Cali     11300 \n",
              "3 Medellin  5200 "
            ]
          },
          "metadata": {}
        }
      ]
    },
    {
      "cell_type": "markdown",
      "source": [
        "#datos 'mean', 'max', 'min', 'count']"
      ],
      "metadata": {
        "id": "VD-irNgDSoi7"
      }
    },
    {
      "cell_type": "code",
      "source": [
        "datospro <- aggregate(precio ~ Sabor, data = helados, FUN = function(x) c(mean = mean(x), max = max(x), min = min(x), count = length(x)))\n",
        "\n",
        "datospro"
      ],
      "metadata": {
        "id": "3RPd8UzJSoIs",
        "outputId": "594c497f-3939-4662-d41d-190080af1e39",
        "colab": {
          "base_uri": "https://localhost:8080/",
          "height": 192
        }
      },
      "execution_count": null,
      "outputs": [
        {
          "output_type": "display_data",
          "data": {
            "text/html": [
              "<table class=\"dataframe\">\n",
              "<caption>A data.frame: 3 × 2</caption>\n",
              "<thead>\n",
              "\t<tr><th scope=col>Sabor</th><th scope=col>precio</th></tr>\n",
              "\t<tr><th scope=col>&lt;chr&gt;</th><th scope=col>&lt;dbl[,4]&gt;</th></tr>\n",
              "</thead>\n",
              "<tbody>\n",
              "\t<tr><td>chocolate</td><td>6100, 6500, 5700, 2</td></tr>\n",
              "\t<tr><td>mora     </td><td>4350, 5200, 3500, 2</td></tr>\n",
              "\t<tr><td>vainilla </td><td>4750, 4800, 4700, 2</td></tr>\n",
              "</tbody>\n",
              "</table>\n"
            ],
            "text/markdown": "\nA data.frame: 3 × 2\n\n| Sabor &lt;chr&gt; | precio &lt;dbl[,4]&gt; |\n|---|---|\n| chocolate | 6100, 6500, 5700, 2 |\n| mora      | 4350, 5200, 3500, 2 |\n| vainilla  | 4750, 4800, 4700, 2 |\n\n",
            "text/latex": "A data.frame: 3 × 2\n\\begin{tabular}{ll}\n Sabor & precio\\\\\n <chr> & <dbl{[},4{]}>\\\\\n\\hline\n\t chocolate & 6100, 6500, 5700, 2\\\\\n\t mora      & 4350, 5200, 3500, 2\\\\\n\t vainilla  & 4750, 4800, 4700, 2\\\\\n\\end{tabular}\n",
            "text/plain": [
              "  Sabor     precio             \n",
              "1 chocolate 6100, 6500, 5700, 2\n",
              "2 mora      4350, 5200, 3500, 2\n",
              "3 vainilla  4750, 4800, 4700, 2"
            ]
          },
          "metadata": {}
        }
      ]
    },
    {
      "cell_type": "code",
      "source": [
        "datospro <- aggregate(precio ~ Sabor, data = helados, FUN = function(x) c(mean = mean(x), max = max(x), min = min(x), count = length(x)))\n",
        "\n",
        "datospro"
      ],
      "metadata": {
        "id": "X6Ov8rrmTKQX"
      },
      "execution_count": null,
      "outputs": []
    },
    {
      "cell_type": "markdown",
      "source": [
        "#nuevo dataframe\n"
      ],
      "metadata": {
        "id": "OdywtVd1ThnM"
      }
    },
    {
      "cell_type": "code",
      "source": [
        "datos <- data.frame(\n",
        "  Nombre = c(\"ana\", \"luis\", \"carlos\", \"marta\", NA),\n",
        "  Edad = c(25, NA, 30, 22, 28),\n",
        "  Ciudad = c(\"Bogotá\", \"Cali\", NA, \"Medellin\", \"Cali\"),\n",
        "  stringsAsFactors = FALSE\n",
        ")\n",
        "\n",
        "\n",
        "datos\n"
      ],
      "metadata": {
        "id": "KIm7d97gTj4B",
        "outputId": "7406d0b6-b11d-4f75-f408-d57489077f04",
        "colab": {
          "base_uri": "https://localhost:8080/",
          "height": 255
        }
      },
      "execution_count": null,
      "outputs": [
        {
          "output_type": "display_data",
          "data": {
            "text/html": [
              "<table class=\"dataframe\">\n",
              "<caption>A data.frame: 5 × 3</caption>\n",
              "<thead>\n",
              "\t<tr><th scope=col>Nombre</th><th scope=col>Edad</th><th scope=col>Ciudad</th></tr>\n",
              "\t<tr><th scope=col>&lt;chr&gt;</th><th scope=col>&lt;dbl&gt;</th><th scope=col>&lt;chr&gt;</th></tr>\n",
              "</thead>\n",
              "<tbody>\n",
              "\t<tr><td>ana   </td><td>25</td><td>Bogotá  </td></tr>\n",
              "\t<tr><td>luis  </td><td>NA</td><td>Cali    </td></tr>\n",
              "\t<tr><td>carlos</td><td>30</td><td>NA      </td></tr>\n",
              "\t<tr><td>marta </td><td>22</td><td>Medellin</td></tr>\n",
              "\t<tr><td>NA    </td><td>28</td><td>Cali    </td></tr>\n",
              "</tbody>\n",
              "</table>\n"
            ],
            "text/markdown": "\nA data.frame: 5 × 3\n\n| Nombre &lt;chr&gt; | Edad &lt;dbl&gt; | Ciudad &lt;chr&gt; |\n|---|---|---|\n| ana    | 25 | Bogotá   |\n| luis   | NA | Cali     |\n| carlos | 30 | NA       |\n| marta  | 22 | Medellin |\n| NA     | 28 | Cali     |\n\n",
            "text/latex": "A data.frame: 5 × 3\n\\begin{tabular}{lll}\n Nombre & Edad & Ciudad\\\\\n <chr> & <dbl> & <chr>\\\\\n\\hline\n\t ana    & 25 & Bogotá  \\\\\n\t luis   & NA & Cali    \\\\\n\t carlos & 30 & NA      \\\\\n\t marta  & 22 & Medellin\\\\\n\t NA     & 28 & Cali    \\\\\n\\end{tabular}\n",
            "text/plain": [
              "  Nombre Edad Ciudad  \n",
              "1 ana    25   Bogotá  \n",
              "2 luis   NA   Cali    \n",
              "3 carlos 30   NA      \n",
              "4 marta  22   Medellin\n",
              "5 NA     28   Cali    "
            ]
          },
          "metadata": {}
        }
      ]
    },
    {
      "cell_type": "markdown",
      "source": [
        "#dropna\n"
      ],
      "metadata": {
        "id": "VjffYuruT1VX"
      }
    },
    {
      "cell_type": "code",
      "source": [
        "na.omit(datos)"
      ],
      "metadata": {
        "id": "ZEYOhSU0T2YG",
        "outputId": "dba30564-f8d8-4a30-c8f1-9116cfd21308",
        "colab": {
          "base_uri": "https://localhost:8080/",
          "height": 161
        }
      },
      "execution_count": null,
      "outputs": [
        {
          "output_type": "display_data",
          "data": {
            "text/html": [
              "<table class=\"dataframe\">\n",
              "<caption>A data.frame: 2 × 3</caption>\n",
              "<thead>\n",
              "\t<tr><th></th><th scope=col>Nombre</th><th scope=col>Edad</th><th scope=col>Ciudad</th></tr>\n",
              "\t<tr><th></th><th scope=col>&lt;chr&gt;</th><th scope=col>&lt;dbl&gt;</th><th scope=col>&lt;chr&gt;</th></tr>\n",
              "</thead>\n",
              "<tbody>\n",
              "\t<tr><th scope=row>1</th><td>ana  </td><td>25</td><td>Bogotá  </td></tr>\n",
              "\t<tr><th scope=row>4</th><td>marta</td><td>22</td><td>Medellin</td></tr>\n",
              "</tbody>\n",
              "</table>\n"
            ],
            "text/markdown": "\nA data.frame: 2 × 3\n\n| <!--/--> | Nombre &lt;chr&gt; | Edad &lt;dbl&gt; | Ciudad &lt;chr&gt; |\n|---|---|---|---|\n| 1 | ana   | 25 | Bogotá   |\n| 4 | marta | 22 | Medellin |\n\n",
            "text/latex": "A data.frame: 2 × 3\n\\begin{tabular}{r|lll}\n  & Nombre & Edad & Ciudad\\\\\n  & <chr> & <dbl> & <chr>\\\\\n\\hline\n\t1 & ana   & 25 & Bogotá  \\\\\n\t4 & marta & 22 & Medellin\\\\\n\\end{tabular}\n",
            "text/plain": [
              "  Nombre Edad Ciudad  \n",
              "1 ana    25   Bogotá  \n",
              "4 marta  22   Medellin"
            ]
          },
          "metadata": {}
        }
      ]
    },
    {
      "cell_type": "code",
      "source": [
        "datos[!is.na(datos$Edad), ]"
      ],
      "metadata": {
        "id": "KjUtGhtQT21x",
        "outputId": "1461891b-ffec-4e7d-eb16-7d66d422765d",
        "colab": {
          "base_uri": "https://localhost:8080/",
          "height": 224
        }
      },
      "execution_count": null,
      "outputs": [
        {
          "output_type": "display_data",
          "data": {
            "text/html": [
              "<table class=\"dataframe\">\n",
              "<caption>A data.frame: 4 × 3</caption>\n",
              "<thead>\n",
              "\t<tr><th></th><th scope=col>Nombre</th><th scope=col>Edad</th><th scope=col>Ciudad</th></tr>\n",
              "\t<tr><th></th><th scope=col>&lt;chr&gt;</th><th scope=col>&lt;dbl&gt;</th><th scope=col>&lt;chr&gt;</th></tr>\n",
              "</thead>\n",
              "<tbody>\n",
              "\t<tr><th scope=row>1</th><td>ana   </td><td>25</td><td>Bogotá  </td></tr>\n",
              "\t<tr><th scope=row>3</th><td>carlos</td><td>30</td><td>NA      </td></tr>\n",
              "\t<tr><th scope=row>4</th><td>marta </td><td>22</td><td>Medellin</td></tr>\n",
              "\t<tr><th scope=row>5</th><td>NA    </td><td>28</td><td>Cali    </td></tr>\n",
              "</tbody>\n",
              "</table>\n"
            ],
            "text/markdown": "\nA data.frame: 4 × 3\n\n| <!--/--> | Nombre &lt;chr&gt; | Edad &lt;dbl&gt; | Ciudad &lt;chr&gt; |\n|---|---|---|---|\n| 1 | ana    | 25 | Bogotá   |\n| 3 | carlos | 30 | NA       |\n| 4 | marta  | 22 | Medellin |\n| 5 | NA     | 28 | Cali     |\n\n",
            "text/latex": "A data.frame: 4 × 3\n\\begin{tabular}{r|lll}\n  & Nombre & Edad & Ciudad\\\\\n  & <chr> & <dbl> & <chr>\\\\\n\\hline\n\t1 & ana    & 25 & Bogotá  \\\\\n\t3 & carlos & 30 & NA      \\\\\n\t4 & marta  & 22 & Medellin\\\\\n\t5 & NA     & 28 & Cali    \\\\\n\\end{tabular}\n",
            "text/plain": [
              "  Nombre Edad Ciudad  \n",
              "1 ana    25   Bogotá  \n",
              "3 carlos 30   NA      \n",
              "4 marta  22   Medellin\n",
              "5 NA     28   Cali    "
            ]
          },
          "metadata": {}
        }
      ]
    }
  ]
}